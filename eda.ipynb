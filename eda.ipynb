{
 "cells": [
  {
   "cell_type": "code",
   "execution_count": 2,
   "metadata": {},
   "outputs": [
    {
     "data": {
      "text/plain": [
       "polars.config.Config"
      ]
     },
     "execution_count": 2,
     "metadata": {},
     "output_type": "execute_result"
    }
   ],
   "source": [
    "import polars as pl\n",
    "import re\n",
    "from unidecode import unidecode\n",
    "pl.Config.set_fmt_str_lengths(200)"
   ]
  },
  {
   "cell_type": "markdown",
   "metadata": {},
   "source": [
    "### Preprocess data"
   ]
  },
  {
   "cell_type": "code",
   "execution_count": 3,
   "metadata": {},
   "outputs": [],
   "source": [
    "def remove_non_ascii(string):\n",
    "    return string.encode('ascii', 'ignore').decode('utf8').casefold()"
   ]
  },
  {
   "cell_type": "code",
   "execution_count": 4,
   "metadata": {},
   "outputs": [
    {
     "data": {
      "text/html": [
       "<div><style>\n",
       ".dataframe > thead > tr > th,\n",
       ".dataframe > tbody > tr > td {\n",
       "  text-align: right;\n",
       "}\n",
       "</style>\n",
       "<small>shape: (43_234, 3)</small><table border=\"1\" class=\"dataframe\"><thead><tr><th>brand_auchan</th><th>ean</th><th>name_auchan</th></tr><tr><td>str</td><td>str</td><td>str</td></tr></thead><tbody><tr><td>&quot;AUCHAN&quot;</td><td>&quot;3596710470327&quot;</td><td>&quot;BTONNET GLAC VANILLE AMANDES&quot;</td></tr><tr><td>&quot;CAROLIN&quot;</td><td>&quot;3346029989412&quot;</td><td>&quot;SPRAY NETTOYANT MULTI-SURFACES AU SAVON NOIR 100% VGTAL&quot;</td></tr><tr><td>&quot;BONDUELLE&quot;</td><td>&quot;3083681133691&quot;</td><td>&quot;FARFALLES SAUMON ET FVES AU CURRY ET  LA CORIANDRE&quot;</td></tr><tr><td>&quot;KNORR&quot;</td><td>&quot;8712100630040&quot;</td><td>&quot;SAUCE AUX CHAMPIGNONS  LA CRME FRACHE EN BRIQUE&quot;</td></tr><tr><td>&quot;FERME D&#x27;ANCHIN&quot;</td><td>&quot;3490214750018&quot;</td><td>&quot;SOUPE AUX 10 LGUMES DU POTAGER&quot;</td></tr><tr><td>&quot;ELSEVE&quot;</td><td>&quot;3054089402597&quot;</td><td>&quot;TOTAL REPAIR 5 MASQUE RECONSTITUANT CHEVEUX ABIMS&quot;</td></tr><tr><td>&quot;SAMIA&quot;</td><td>&quot;3276650101535&quot;</td><td>&quot;HALVAS AMANDES&quot;</td></tr><tr><td>&quot;NESTLE&quot;</td><td>&quot;7613035856356&quot;</td><td>&quot;NATURNES BOL CAROTTES RIZ ET POULET FERMIER DS 6 MOIS&quot;</td></tr><tr><td>&quot;WEI MING&quot;</td><td>&quot;3275760000707&quot;</td><td>&quot;SORBET  LA NOIX DE COCO&quot;</td></tr><tr><td>&quot;AUCHAN LE TRAITEUR&quot;</td><td>&quot;3254560160354&quot;</td><td>&quot;NEMS AU POULET&quot;</td></tr><tr><td>&quot;NANA&quot;</td><td>&quot;3700390863106&quot;</td><td>&quot;MASQUES BARRIRES RUTILISABLES ANTI-PROJECTIONS UNS 1 ADULTES&quot;</td></tr><tr><td>&quot;SAINT AMAND&quot;</td><td>&quot;3162850620009&quot;</td><td>&quot;EAU MINRALE NATURELLE PTILLANTE BOUTEILLES&quot;</td></tr><tr><td>&hellip;</td><td>&hellip;</td><td>&hellip;</td></tr><tr><td>&quot;HOMCOM&quot;</td><td>&quot;3662970060339&quot;</td><td>&quot;REMORQUE VLO REMORQUE DE TRANSPORT POUR VLO PLIABLE 70L 139L X 71,5L X 49H CM BARRE D&#x27;ATTELAGE UNIVERSELLE ACIER NOIR&quot;</td></tr><tr><td>&quot;ELSEVE&quot;</td><td>&quot;3600522215370&quot;</td><td>&quot;HUILE SUBLIMATRICE DE MATIRE FINI SATIN&quot;</td></tr><tr><td>&quot;BRIOCHIN&quot;</td><td>&quot;3383482294547&quot;</td><td>&quot;AUTHENTIQUE VINAIGRE DE MNAGE COLOGIQUE&quot;</td></tr><tr><td>&quot;ACTUEL&quot;</td><td>&quot;3245676757255&quot;</td><td>&quot;VERRINES TUBE RUTILISABLES 7CL X10&quot;</td></tr><tr><td>&quot;CONSERVERIE ST CHRISTOPHE&quot;</td><td>&quot;3565700001230&quot;</td><td>&quot;PT AU MAROILLES&quot;</td></tr><tr><td>&quot;AUCHAN MMM!&quot;</td><td>&quot;3596710441389&quot;</td><td>&quot;PAUPIETTE DE VEAU  LA SAUCE TOMATE ET CRAS DE POMME DE TERRE&quot;</td></tr><tr><td>&quot;LAVOR WASH&quot;</td><td>&quot;8013298215003&quot;</td><td>&quot;NHP COSMOS 3 140&quot;</td></tr><tr><td>&quot;VEUVE CLICQUOT&quot;</td><td>&quot;3049614209994&quot;</td><td>&quot;AOP CHAMPAGNE BRUT AVEC TUI&quot;</td></tr><tr><td>&quot;PEDELHEZ&quot;</td><td>&quot;3437770010255&quot;</td><td>&quot;PT DE CAMPAGNE CATALAN&quot;</td></tr><tr><td>&quot;MORTREUX&quot;</td><td>&quot;3666373865188&quot;</td><td>&quot;SIEGE AUTO CYBEX BASE ISOFIX - COMPATIBLE ATON S2 I-SIZE ET ATON B2 I-SIZE - ULTRA COMPACTE - NOIR&quot;</td></tr><tr><td>&quot;PROMIS JURE&quot;</td><td>&quot;3770010291572&quot;</td><td>&quot;SORBET PLEIN FRUIT CITRON JAUNE&quot;</td></tr><tr><td>&quot;PANIER DE YOPLAIT&quot;</td><td>&quot;3329770063518&quot;</td><td>&quot;YAOURT AUX MORCEAUX DE FRUITS JAUNES&quot;</td></tr></tbody></table></div>"
      ],
      "text/plain": [
       "shape: (43_234, 3)\n",
       "┌───────────────────┬───────────────┬──────────────────────────────────────────────────────────────┐\n",
       "│ brand_auchan      ┆ ean           ┆ name_auchan                                                  │\n",
       "│ ---               ┆ ---           ┆ ---                                                          │\n",
       "│ str               ┆ str           ┆ str                                                          │\n",
       "╞═══════════════════╪═══════════════╪══════════════════════════════════════════════════════════════╡\n",
       "│ AUCHAN            ┆ 3596710470327 ┆ BTONNET GLAC VANILLE AMANDES                                 │\n",
       "│ CAROLIN           ┆ 3346029989412 ┆ SPRAY NETTOYANT MULTI-SURFACES AU SAVON NOIR 100% VGTAL      │\n",
       "│ BONDUELLE         ┆ 3083681133691 ┆ FARFALLES SAUMON ET FVES AU CURRY ET  LA CORIANDRE           │\n",
       "│ KNORR             ┆ 8712100630040 ┆ SAUCE AUX CHAMPIGNONS  LA CRME FRACHE EN BRIQUE              │\n",
       "│ …                 ┆ …             ┆ …                                                            │\n",
       "│ PEDELHEZ          ┆ 3437770010255 ┆ PT DE CAMPAGNE CATALAN                                       │\n",
       "│ MORTREUX          ┆ 3666373865188 ┆ SIEGE AUTO CYBEX BASE ISOFIX - COMPATIBLE ATON S2 I-SIZE ET  │\n",
       "│                   ┆               ┆ ATON B2 I-SIZE - ULTRA COMPACTE - NOIR                       │\n",
       "│ PROMIS JURE       ┆ 3770010291572 ┆ SORBET PLEIN FRUIT CITRON JAUNE                              │\n",
       "│ PANIER DE YOPLAIT ┆ 3329770063518 ┆ YAOURT AUX MORCEAUX DE FRUITS JAUNES                         │\n",
       "└───────────────────┴───────────────┴──────────────────────────────────────────────────────────────┘"
      ]
     },
     "execution_count": 4,
     "metadata": {},
     "output_type": "execute_result"
    }
   ],
   "source": [
    "auchan = (\n",
    "    pl.read_parquet('data/raw_v2/auchan.parquet')    \n",
    "    .with_columns(pl.col('brand').apply(lambda x: remove_non_ascii(x))\n",
    "                .alias(\"brand\")\n",
    "    )   \n",
    "    .with_columns(pl.col('name').apply(lambda x: remove_non_ascii(x))\n",
    "                .alias(\"name\")\n",
    "    )\n",
    "    .select(pl.col('brand').str.to_uppercase().alias('brand_auchan'), \n",
    "            'ean', \n",
    "            pl.col('name').str.to_uppercase().alias('name_auchan')\n",
    "            )\n",
    "    .unique(subset=['ean'])\n",
    ")\n",
    "auchan"
   ]
  },
  {
   "cell_type": "code",
   "execution_count": 5,
   "metadata": {},
   "outputs": [
    {
     "data": {
      "text/html": [
       "<div><style>\n",
       ".dataframe > thead > tr > th,\n",
       ".dataframe > tbody > tr > td {\n",
       "  text-align: right;\n",
       "}\n",
       "</style>\n",
       "<small>shape: (13_615, 3)</small><table border=\"1\" class=\"dataframe\"><thead><tr><th>brand_franprix</th><th>ean</th><th>name_franprix</th></tr><tr><td>str</td><td>str</td><td>str</td></tr></thead><tbody><tr><td>&quot;MARLETTE&quot;</td><td>&quot;3760363690214&quot;</td><td>&quot;PRPARATION BIO POUR PANCAKES &amp; GAUFRES&quot;</td></tr><tr><td>&quot;CRAL BIO&quot;</td><td>&quot;3175681152137&quot;</td><td>&quot;QUINOA NATURE BIO&quot;</td></tr><tr><td>&quot;FRANPRIX&quot;</td><td>&quot;3263858760923&quot;</td><td>&quot;SANDWICH ROSETTE BEURRE&quot;</td></tr><tr><td>&quot;BROSSARD&quot;</td><td>&quot;3660140846455&quot;</td><td>&quot;BROWNIE PPITES CHOCOLAT&quot;</td></tr><tr><td>&quot;ROYCO&quot;</td><td>&quot;3036812020681&quot;</td><td>&quot;SOUPE INSTANTANE CRME DE CHAMPIGONS&quot;</td></tr><tr><td>&quot;FRANPRIX&quot;</td><td>&quot;3263857728115&quot;</td><td>&quot;CINSAULT PAYS D&#x27;OC, VIN ROS&quot;</td></tr><tr><td>&quot;FRANPRIX&quot;</td><td>&quot;3263856489819&quot;</td><td>&quot;FILETS DE COLIN D&#x27;ALASKA PANS&quot;</td></tr><tr><td>&quot;APTONIA&quot;</td><td>&quot;3583787609163&quot;</td><td>&quot;BOISSON ISOTONIQUE ORANGE&quot;</td></tr><tr><td>&quot;FRANPRIX&quot;</td><td>&quot;3263859356217&quot;</td><td>&quot;COMT AOP RP&quot;</td></tr><tr><td>&quot;ANCENIS&quot;</td><td>&quot;3435660785641&quot;</td><td>&quot;POULET FERMIER LABEL ROUGE&quot;</td></tr><tr><td>&quot;LEADER PRICE&quot;</td><td>&quot;3263857123019&quot;</td><td>&quot;JUS D&#x27;ORANGE ZRO PULPES&quot;</td></tr><tr><td>&quot;PLESSIS DUVAL&quot;</td><td>&quot;3211209123903&quot;</td><td>&quot;CABERNET D&#x27;ANJOU LOIRE ET CENTRE, VIN ROS&quot;</td></tr><tr><td>&hellip;</td><td>&hellip;</td><td>&hellip;</td></tr><tr><td>&quot;YUMI&quot;</td><td>&quot;3760099400521&quot;</td><td>&quot;GARDE DU CORPS CURCUMA YUMI&quot;</td></tr><tr><td>&quot;RIANS&quot;</td><td>&quot;3184670007808&quot;</td><td>&quot;CRME BRLE  LA VANILLE BOURBON&quot;</td></tr><tr><td>&quot;CONFISERIE D&#x27;ENTRECASTEAUX&quot;</td><td>&quot;3502792101196&quot;</td><td>&quot;GALETS AU CHOCOLAT ET CRME DE NOUGAT&quot;</td></tr><tr><td>&quot;RANA&quot;</td><td>&quot;8001665714587&quot;</td><td>&quot;CAPPELLETI AU JAMBON CRU&quot;</td></tr><tr><td>null</td><td>&quot;0000000007348&quot;</td><td>&quot;POMME GOLDEN&quot;</td></tr><tr><td>&quot;PUGET&quot;</td><td>&quot;3265478858004&quot;</td><td>&quot;VINAIGRETTE BALSAMIQUE ET TOMATES&quot;</td></tr><tr><td>&quot;ARIZONA&quot;</td><td>&quot;0613008742348&quot;</td><td>&quot;TH VERT GLAC MIEL&quot;</td></tr><tr><td>&quot;LEADER PRICE&quot;</td><td>&quot;3263850104268&quot;</td><td>&quot;CAF CHICORE SOLUBLE&quot;</td></tr><tr><td>&quot;FDG&quot;</td><td>&quot;3040690923859&quot;</td><td>&quot;PRESSE AIL PROFESSIONNEL&quot;</td></tr><tr><td>&quot;GERBL&quot;</td><td>&quot;3175681851856&quot;</td><td>&quot;BISCUITS RAISINS&quot;</td></tr><tr><td>&quot;EDEN GOURMET&quot;</td><td>&quot;3760059040187&quot;</td><td>&quot;HOUMOUS ORIENTAL CASHER&quot;</td></tr><tr><td>&quot;DUCROS&quot;</td><td>&quot;3166290200616&quot;</td><td>&quot;HERBES DE PROVENCE&quot;</td></tr></tbody></table></div>"
      ],
      "text/plain": [
       "shape: (13_615, 3)\n",
       "┌────────────────┬───────────────┬────────────────────────────────────────┐\n",
       "│ brand_franprix ┆ ean           ┆ name_franprix                          │\n",
       "│ ---            ┆ ---           ┆ ---                                    │\n",
       "│ str            ┆ str           ┆ str                                    │\n",
       "╞════════════════╪═══════════════╪════════════════════════════════════════╡\n",
       "│ MARLETTE       ┆ 3760363690214 ┆ PRPARATION BIO POUR PANCAKES & GAUFRES │\n",
       "│ CRAL BIO       ┆ 3175681152137 ┆ QUINOA NATURE BIO                      │\n",
       "│ FRANPRIX       ┆ 3263858760923 ┆ SANDWICH ROSETTE BEURRE                │\n",
       "│ BROSSARD       ┆ 3660140846455 ┆ BROWNIE PPITES CHOCOLAT                │\n",
       "│ …              ┆ …             ┆ …                                      │\n",
       "│ FDG            ┆ 3040690923859 ┆ PRESSE AIL PROFESSIONNEL               │\n",
       "│ GERBL          ┆ 3175681851856 ┆ BISCUITS RAISINS                       │\n",
       "│ EDEN GOURMET   ┆ 3760059040187 ┆ HOUMOUS ORIENTAL CASHER                │\n",
       "│ DUCROS         ┆ 3166290200616 ┆ HERBES DE PROVENCE                     │\n",
       "└────────────────┴───────────────┴────────────────────────────────────────┘"
      ]
     },
     "execution_count": 5,
     "metadata": {},
     "output_type": "execute_result"
    }
   ],
   "source": [
    "franprix = (\n",
    "    pl.read_parquet('data/raw_v2/franprix.parquet')     \n",
    "    .with_columns(pl.col('brand').apply(lambda x: remove_non_ascii(x))\n",
    "                .alias(\"brand\")\n",
    "    )\n",
    "    .with_columns(pl.col('name').apply(lambda x: remove_non_ascii(x))\n",
    "                .alias(\"name\")\n",
    "    )\n",
    "    .select(pl.col('brand').str.to_uppercase().alias('brand_franprix'), \n",
    "            'ean', \n",
    "            pl.col('name').str.to_uppercase().alias('name_franprix')\n",
    "            )\n",
    "    .unique(subset=['ean'])\n",
    ")\n",
    "franprix"
   ]
  },
  {
   "cell_type": "code",
   "execution_count": 6,
   "metadata": {},
   "outputs": [],
   "source": [
    "def extract_brand(product_name):\n",
    "    product_name_processed = product_name.replace('\"', \"'\").strip()\n",
    "    reversed_product_name = product_name_processed[::-1]\n",
    "    brand_reverse_lst = []\n",
    "    ind = 0\n",
    "    pattern = \".?\\'(.*)\\'$\"\n",
    "    \n",
    "    # Get brand in capital letters\n",
    "    for character in reversed_product_name:\n",
    "        if character.isupper() or character.isdigit() or character in [\" \", \"'\", \"-\", \"&\", \"?\", \"!\", \".\"]:\n",
    "            brand_reverse_lst.append(character) \n",
    "            ind += 1\n",
    "        else:\n",
    "            break\n",
    "\n",
    "    if len(brand_reverse_lst) > 0:\n",
    "        brand = ''.join(brand_reverse_lst).strip()[::-1]\n",
    "\n",
    "        brand = re.sub(\"^'\", \"\", brand)\n",
    "        brand = re.sub(\"'$\", \"\", brand)\n",
    "        brand = re.sub(\"^-\", \"\", brand)\n",
    "        brand = re.sub(\"^\\.\", \"\", brand)\n",
    "        brand = re.sub(\"^\\d+\", \"\", brand)\n",
    "        brand = brand.strip()\n",
    "        brand = brand.rstrip()\n",
    "\n",
    "        if re.search(\"^\\-\\w?$\", brand) \\\n",
    "           or re.search(\"^X.*\\d*$\", brand) \\\n",
    "           or re.search(\"^\\d+.*L\\.*$\", brand)\\\n",
    "           or re.search(\"^\\d+.*U\\.*$\", brand)\\\n",
    "           or re.search(\"^\\d+.*KG\\.*$\", brand)\\\n",
    "           or re.search(\"^\\d+.*G\\.*$\", brand) \\\n",
    "           or brand.isdigit() \\\n",
    "           or re.sub(\"\\-|\\.|\\ |\\?\", \"\",brand).isdigit() \\\n",
    "           or re.sub(\"\\.\", \"\",brand) == '':\n",
    "            brand = None\n",
    "    \n",
    "    # Get brand in quotes\n",
    "    elif len(brand_reverse_lst) < 2 and re.search(pattern, product_name):\n",
    "        brand = re.search(pattern, product_name).group(1).strip()\n",
    "        \n",
    "    else :\n",
    "        brand = None\n",
    "\n",
    "    return brand"
   ]
  },
  {
   "cell_type": "code",
   "execution_count": 7,
   "metadata": {},
   "outputs": [
    {
     "data": {
      "text/html": [
       "<div><style>\n",
       ".dataframe > thead > tr > th,\n",
       ".dataframe > tbody > tr > td {\n",
       "  text-align: right;\n",
       "}\n",
       "</style>\n",
       "<small>shape: (50_476, 3)</small><table border=\"1\" class=\"dataframe\"><thead><tr><th>brand_carrefour</th><th>ean</th><th>name_carrefour</th></tr><tr><td>str</td><td>str</td><td>str</td></tr></thead><tbody><tr><td>&quot;CARREFOUR LE MARCHE&quot;</td><td>&quot;5400101069220&quot;</td><td>&quot;NOIX DE PCAN CARREFOUR LE MARCHE&quot;</td></tr><tr><td>&quot;LU&quot;</td><td>&quot;3041090063114&quot;</td><td>&quot;BISCOTTES AU FROMENT CRACOTTE LU&quot;</td></tr><tr><td>null</td><td>&quot;3701597301583&quot;</td><td>&quot;BROCHETTE DE GIGOT D&#x27;AGNEAU- 4 PICES DE 160/180G &quot;</td></tr><tr><td>&quot;K&#x27;BICHOO&quot;</td><td>&quot;3760256900062&quot;</td><td>&quot;BONBONS TTINES HALAL K&#x27;BICHOO&quot;</td></tr><tr><td>&quot;OREO&quot;</td><td>&quot;7622210477439&quot;</td><td>&quot;BISCUITS FOURRS  LA VANILLE GOLDEN OREO&quot;</td></tr><tr><td>&quot;COCA-COLA&quot;</td><td>&quot;5449000239785&quot;</td><td>&quot;SODA SANS SUCRES COCA-COLA&quot;</td></tr><tr><td>&quot;DD&quot;</td><td>&quot;3504900022034&quot;</td><td>&quot;JAMBON D&#x27;AUCH SUPRIEUR DD&quot;</td></tr><tr><td>null</td><td>&quot;3770006004018&quot;</td><td>&quot;NOUGAT TRADITIONNEL&quot;</td></tr><tr><td>&quot;FQC FILIERE QUALITE CARREFOUR&quot;</td><td>&quot;3245416059403&quot;</td><td>&quot;CTE DE PORC CHINE  GRILLER FQC FILIERE QUALITE CARREFOUR&quot;</td></tr><tr><td>&quot;BONJOUR CAMPAGNE&quot;</td><td>&quot;3483190092692&quot;</td><td>&quot;ALLUMETTES D&#x27;PAULE BIO BONJOUR CAMPAGNE&quot;</td></tr><tr><td>null</td><td>&quot;3325096164298&quot;</td><td>&quot;NOIX DE SAINT JACQUES SAUVAGE SANS CORAIL&quot;</td></tr><tr><td>null</td><td>&quot;7427251295635&quot;</td><td>&quot;HUILE D&#x27;ARACHIDE  5L / BIDON 1 BIDON &quot;</td></tr><tr><td>&hellip;</td><td>&hellip;</td><td>&hellip;</td></tr><tr><td>&quot;LA CAVE D&#x27;AUGUSTIN FLORENT&quot;</td><td>&quot;3245415844376&quot;</td><td>&quot;VIN ROUGE LOIRE CHINON CABERNET FRANC BIO LA CAVE D&#x27;AUGUSTIN FLORENT&quot;</td></tr><tr><td>&quot;BJORG&quot;</td><td>&quot;3229820762692&quot;</td><td>&quot;TOFU NATURE BIO BJORG&quot;</td></tr><tr><td>&quot;TANOSHI&quot;</td><td>&quot;3229820801193&quot;</td><td>&quot;NOUILLES SAVEUR BUF RAMEN BULGOGI TANOSHI&quot;</td></tr><tr><td>null</td><td>&quot;3426470272452&quot;</td><td>&quot;PLAT DE FOUR PYREX SIGNATURE CRAMIQUE&quot;</td></tr><tr><td>&quot;RICOLA&quot;</td><td>&quot;7610700015421&quot;</td><td>&quot;BONBONS EUCALYPTUS RICOLA&quot;</td></tr><tr><td>&quot;PRESSADE&quot;</td><td>&quot;3254690086807&quot;</td><td>&quot;NECTAR POMME PCHE CERISE BIO PRESSADE&quot;</td></tr><tr><td>&quot;CARREFOUR BIO&quot;</td><td>&quot;3560071180713&quot;</td><td>&quot;MIEL D&#x27;ACACIA CARREFOUR BIO&quot;</td></tr><tr><td>&quot;NURISHH&quot;</td><td>&quot;3073781155525&quot;</td><td>&quot;RP VGTAL CLASSIQUE NURISHH&quot;</td></tr><tr><td>&quot;AUZIER CHABERNAC&quot;</td><td>&quot;3352750700158&quot;</td><td>&quot;BONBONS GUIMAUVE SAVEURS D&#x27;ANTAN AUZIER CHABERNAC&quot;</td></tr><tr><td>&quot;JARDIN BIO ETIC&quot;</td><td>&quot;3307130802557&quot;</td><td>&quot;PETITS POIS CAROTTES TRS FINS BIO JARDIN BIO ETIC&quot;</td></tr><tr><td>null</td><td>&quot;3665549116123&quot;</td><td>&quot;LOT 3X PTES - GAMME FINES ET SAVOUREUSES &quot;COQUILLETTE&quot; - SACHET 500G &quot;</td></tr><tr><td>&quot;SIMPL&quot;</td><td>&quot;3560071494438&quot;</td><td>&quot;SALADE MLANGE SIMPL&quot;</td></tr></tbody></table></div>"
      ],
      "text/plain": [
       "shape: (50_476, 3)\n",
       "┌─────────────────────┬───────────────┬────────────────────────────────────────────────────────────┐\n",
       "│ brand_carrefour     ┆ ean           ┆ name_carrefour                                             │\n",
       "│ ---                 ┆ ---           ┆ ---                                                        │\n",
       "│ str                 ┆ str           ┆ str                                                        │\n",
       "╞═════════════════════╪═══════════════╪════════════════════════════════════════════════════════════╡\n",
       "│ CARREFOUR LE MARCHE ┆ 5400101069220 ┆ NOIX DE PCAN CARREFOUR LE MARCHE                           │\n",
       "│ LU                  ┆ 3041090063114 ┆ BISCOTTES AU FROMENT CRACOTTE LU                           │\n",
       "│ null                ┆ 3701597301583 ┆ BROCHETTE DE GIGOT D'AGNEAU- 4 PICES DE 160/180G           │\n",
       "│ K'BICHOO            ┆ 3760256900062 ┆ BONBONS TTINES HALAL K'BICHOO                              │\n",
       "│ …                   ┆ …             ┆ …                                                          │\n",
       "│ AUZIER CHABERNAC    ┆ 3352750700158 ┆ BONBONS GUIMAUVE SAVEURS D'ANTAN AUZIER CHABERNAC          │\n",
       "│ JARDIN BIO ETIC     ┆ 3307130802557 ┆ PETITS POIS CAROTTES TRS FINS BIO JARDIN BIO ETIC          │\n",
       "│ null                ┆ 3665549116123 ┆ LOT 3X PTES - GAMME FINES ET SAVOUREUSES \"COQUILLETTE\" -   │\n",
       "│                     ┆               ┆ SACHET 500G                                                │\n",
       "│ SIMPL               ┆ 3560071494438 ┆ SALADE MLANGE SIMPL                                        │\n",
       "└─────────────────────┴───────────────┴────────────────────────────────────────────────────────────┘"
      ]
     },
     "execution_count": 7,
     "metadata": {},
     "output_type": "execute_result"
    }
   ],
   "source": [
    "carrefour = (\n",
    "    pl.read_parquet('data/raw_v2/carrefour.parquet')\n",
    "    .with_columns(pl.col('name').apply(lambda x: extract_brand(x))\n",
    "                .alias(\"brand\")\n",
    "    ) \n",
    "    .with_columns(pl.col('brand').apply(lambda x: remove_non_ascii(x))\n",
    "                .alias(\"brand\")\n",
    "    )\n",
    "    .with_columns(pl.col('name').apply(lambda x: remove_non_ascii(x))\n",
    "                .alias(\"name\")\n",
    "    )\n",
    "    .select(pl.col('brand').str.to_uppercase().alias('brand_carrefour'), \n",
    "            'ean', \n",
    "            pl.col('name')\n",
    "            .str.to_uppercase().alias('name_carrefour')\n",
    "            )\n",
    ")\n",
    "carrefour\n",
    "# carrefour.write_parquet('data/raw_v2/carrefour.parquet')"
   ]
  },
  {
   "cell_type": "code",
   "execution_count": 46,
   "metadata": {},
   "outputs": [],
   "source": [
    "dataset = (\n",
    "    auchan\n",
    "    .join(franprix, on = 'ean', how='outer')\n",
    "    .join(carrefour, on = 'ean', how='outer')\n",
    "    .select(['ean', 'name_auchan', 'name_franprix', 'name_carrefour', 'brand_auchan', 'brand_franprix',  'brand_carrefour'])\n",
    ")\n",
    "dataset\n",
    "dataset.write_csv('data/raw_v2/brands.csv', separator=';')"
   ]
  },
  {
   "cell_type": "code",
   "execution_count": 47,
   "metadata": {},
   "outputs": [
    {
     "data": {
      "text/html": [
       "<div><style>\n",
       ".dataframe > thead > tr > th,\n",
       ".dataframe > tbody > tr > td {\n",
       "  text-align: right;\n",
       "}\n",
       "</style>\n",
       "<small>shape: (1_432, 2)</small><table border=\"1\" class=\"dataframe\"><thead><tr><th>brand_left</th><th>brand_right</th></tr><tr><td>str</td><td>str</td></tr></thead><tbody><tr><td>&quot;CONNTABLE&quot;</td><td>&quot;CONNETABLE&quot;</td></tr><tr><td>&quot;HARIBO&quot;</td><td>&quot;MIKO&quot;</td></tr><tr><td>&quot;SAINT MAMET&quot;</td><td>&quot;ST MAMET&quot;</td></tr><tr><td>&quot;SAVANE&quot;</td><td>&quot;BROSSARD&quot;</td></tr><tr><td>&quot;PELICAN BLONDE&quot;</td><td>&quot;PELICAN&quot;</td></tr><tr><td>&quot;APRIVRAIS&quot;</td><td>&quot;APERIVRAIS&quot;</td></tr><tr><td>&quot;MEN EXPERT&quot;</td><td>&quot;L&#x27;OREAL&quot;</td></tr><tr><td>&quot;MISSION SAINT VINCENT&quot;</td><td>&quot;PIERRE CHANAU&quot;</td></tr><tr><td>&quot;CHARLES ET ALICE&quot;</td><td>&quot;CHARLES &amp; ALICE&quot;</td></tr><tr><td>&quot;MILKA&quot;</td><td>&quot;MON PTISSIER&quot;</td></tr><tr><td>&quot;BIEN ETRE&quot;</td><td>&quot;BIEN-ETRE&quot;</td></tr><tr><td>&quot;LA MRE POULARD&quot;</td><td>&quot;LA MERE POULARD&quot;</td></tr><tr><td>&hellip;</td><td>&hellip;</td></tr><tr><td>&quot;LINDT&quot;</td><td>&quot;CREATION LINDT&quot;</td></tr><tr><td>&quot;PAPADOPOULOS&quot;</td><td>&quot;CAPRICE&quot;</td></tr><tr><td>&quot;KINDER&quot;</td><td>&quot;KINDER BUENO EGGS&quot;</td></tr><tr><td>&quot;GERVAIS&quot;</td><td>&quot;MG GERVAIS&quot;</td></tr><tr><td>&quot;LA GOUDALE&quot;</td><td>&quot;IPA LA GOUDALE&quot;</td></tr><tr><td>&quot;FINDUS&quot;</td><td>&quot;MSC&quot;</td></tr><tr><td>&quot;BADOIT&quot;</td><td>&quot;BADOIT BULLES DE FRUITS&quot;</td></tr><tr><td>&quot;MILBRICK&quot;</td><td>&quot;MIL BRICK&quot;</td></tr><tr><td>&quot;BIO&quot;</td><td>&quot;GERARD BERTRAND&quot;</td></tr><tr><td>&quot;FREEDENT&quot;</td><td>&quot;FREEDENT REFRESHERS&quot;</td></tr><tr><td>&quot;DANONE&quot;</td><td>&quot;HIPRO&quot;</td></tr><tr><td>&quot;LINDT&quot;</td><td>&quot;CONNAISSEUR  LINDT&quot;</td></tr></tbody></table></div>"
      ],
      "text/plain": [
       "shape: (1_432, 2)\n",
       "┌─────────────┬─────────────────────┐\n",
       "│ brand_left  ┆ brand_right         │\n",
       "│ ---         ┆ ---                 │\n",
       "│ str         ┆ str                 │\n",
       "╞═════════════╪═════════════════════╡\n",
       "│ CONNTABLE   ┆ CONNETABLE          │\n",
       "│ HARIBO      ┆ MIKO                │\n",
       "│ SAINT MAMET ┆ ST MAMET            │\n",
       "│ SAVANE      ┆ BROSSARD            │\n",
       "│ …           ┆ …                   │\n",
       "│ BIO         ┆ GERARD BERTRAND     │\n",
       "│ FREEDENT    ┆ FREEDENT REFRESHERS │\n",
       "│ DANONE      ┆ HIPRO               │\n",
       "│ LINDT       ┆ CONNAISSEUR  LINDT  │\n",
       "└─────────────┴─────────────────────┘"
      ]
     },
     "metadata": {},
     "output_type": "display_data"
    }
   ],
   "source": [
    "training_0 = (\n",
    "    dataset\n",
    "    .filter(pl.col('brand_auchan').is_not_null())\n",
    "    .filter(pl.col('brand_franprix').is_not_null())\n",
    "    .filter(pl.col('brand_franprix') != pl.col('brand_auchan'))\n",
    "    .select(pl.col('brand_franprix').alias('brand_left'), pl.col('brand_auchan').alias('brand_right'))\n",
    "    .unique()\n",
    ")\n",
    "\n",
    "training_1 = (\n",
    "    dataset\n",
    "    .filter(pl.col('brand_auchan').is_not_null())\n",
    "    .filter(pl.col('brand_carrefour').is_not_null())\n",
    "    .filter(pl.col('brand_carrefour') != pl.col('brand_auchan'))\n",
    "    .select(pl.col('brand_carrefour').alias('brand_left'), pl.col('brand_auchan').alias('brand_right'))\n",
    "    .unique()\n",
    ")\n",
    "\n",
    "training_2 = (\n",
    "    dataset\n",
    "    .filter(pl.col('brand_carrefour').is_not_null())\n",
    "    .filter(pl.col('brand_franprix').is_not_null())\n",
    "    .filter(pl.col('brand_franprix') != pl.col('brand_carrefour'))\n",
    "    .select(pl.col('brand_franprix').alias('brand_left'), pl.col('brand_carrefour').alias('brand_right'))\n",
    "    .unique()\n",
    ")\n",
    "\n",
    "training = pl.concat([training_0, training_1, training_2]).unique()\n",
    "display(training)\n",
    "training.write_csv('data/raw_v2/training_2.csv', separator=';')"
   ]
  },
  {
   "cell_type": "code",
   "execution_count": 48,
   "metadata": {},
   "outputs": [
    {
     "data": {
      "text/html": [
       "<div><style>\n",
       ".dataframe > thead > tr > th,\n",
       ".dataframe > tbody > tr > td {\n",
       "  text-align: right;\n",
       "}\n",
       "</style>\n",
       "<small>shape: (2, 8)</small><table border=\"1\" class=\"dataframe\"><thead><tr><th>describe</th><th>ean</th><th>name_auchan</th><th>name_franprix</th><th>name_carrefour</th><th>brand_auchan</th><th>brand_franprix</th><th>brand_carrefour</th></tr><tr><td>str</td><td>str</td><td>str</td><td>str</td><td>str</td><td>str</td><td>str</td><td>str</td></tr></thead><tbody><tr><td>&quot;count&quot;</td><td>&quot;92221&quot;</td><td>&quot;92221&quot;</td><td>&quot;92221&quot;</td><td>&quot;92221&quot;</td><td>&quot;92221&quot;</td><td>&quot;92221&quot;</td><td>&quot;92221&quot;</td></tr><tr><td>&quot;null_count&quot;</td><td>&quot;0&quot;</td><td>&quot;47095&quot;</td><td>&quot;77924&quot;</td><td>&quot;41745&quot;</td><td>&quot;47095&quot;</td><td>&quot;78849&quot;</td><td>&quot;60699&quot;</td></tr></tbody></table></div>"
      ],
      "text/plain": [
       "shape: (2, 8)\n",
       "┌────────────┬───────┬───────────┬────────────┬────────────┬────────────┬────────────┬────────────┐\n",
       "│ describe   ┆ ean   ┆ name_auch ┆ name_franp ┆ name_carre ┆ brand_auch ┆ brand_fran ┆ brand_carr │\n",
       "│ ---        ┆ ---   ┆ an        ┆ rix        ┆ four       ┆ an         ┆ prix       ┆ efour      │\n",
       "│ str        ┆ str   ┆ ---       ┆ ---        ┆ ---        ┆ ---        ┆ ---        ┆ ---        │\n",
       "│            ┆       ┆ str       ┆ str        ┆ str        ┆ str        ┆ str        ┆ str        │\n",
       "╞════════════╪═══════╪═══════════╪════════════╪════════════╪════════════╪════════════╪════════════╡\n",
       "│ count      ┆ 92221 ┆ 92221     ┆ 92221      ┆ 92221      ┆ 92221      ┆ 92221      ┆ 92221      │\n",
       "│ null_count ┆ 0     ┆ 47095     ┆ 77924      ┆ 41745      ┆ 47095      ┆ 78849      ┆ 60699      │\n",
       "└────────────┴───────┴───────────┴────────────┴────────────┴────────────┴────────────┴────────────┘"
      ]
     },
     "execution_count": 48,
     "metadata": {},
     "output_type": "execute_result"
    }
   ],
   "source": [
    "dataset.describe().filter(pl.col('describe').is_in(['count', 'null_count']))"
   ]
  },
  {
   "cell_type": "code",
   "execution_count": 10,
   "metadata": {},
   "outputs": [
    {
     "data": {
      "text/html": [
       "<div><style>\n",
       ".dataframe > thead > tr > th,\n",
       ".dataframe > tbody > tr > td {\n",
       "  text-align: right;\n",
       "}\n",
       "</style>\n",
       "<small>shape: (200, 2)</small><table border=\"1\" class=\"dataframe\"><thead><tr><th>brand_left</th><th>brand_left_right</th></tr><tr><td>str</td><td>str</td></tr></thead><tbody><tr><td>&quot;BRASSERIE DU COMT&quot;</td><td>&quot;AOC  MENETOU SALON&quot;</td></tr><tr><td>&quot;AURLANE&quot;</td><td>&quot;TAUREAU AILE&quot;</td></tr><tr><td>&quot;LE JARDIN D&#x27;ORANTE&quot;</td><td>&quot;YUMI&quot;</td></tr><tr><td>&quot;GLORIA&quot;</td><td>&quot;8.6&quot;</td></tr><tr><td>&quot;EQUIPE DE FRANCE JO 2024&quot;</td><td>&quot;SIGNAL&quot;</td></tr><tr><td>&quot;LES MOULINS DE PROVENCE&quot;</td><td>&quot;DOMAINE DU ROUCAS DE SAINT PIERRE&quot;</td></tr><tr><td>&quot;BRETS&quot;</td><td>&quot;AOP CLOCHE D&#x27;OR&quot;</td></tr><tr><td>&quot;LA COLOMBIERE&quot;</td><td>&quot;MILLER&quot;</td></tr><tr><td>&quot;FOREST STYLE&quot;</td><td>&quot;SAINT MARC&quot;</td></tr><tr><td>&quot;RITA&quot;</td><td>&quot;MATIN LEGER&quot;</td></tr><tr><td>&quot;BABY EINSTEIN&quot;</td><td>&quot;AOP GERARD BERTRAND&quot;</td></tr><tr><td>&quot;PETIT BILLY&quot;</td><td>&quot;MOULINS DE VERSAILLES&quot;</td></tr><tr><td>&hellip;</td><td>&hellip;</td></tr><tr><td>&quot;TERRES ET CEREALES BIO&quot;</td><td>&quot;DIADERMINE&quot;</td></tr><tr><td>&quot;ARLA&quot;</td><td>&quot;LES COPAINS D&#x27;ABORD&quot;</td></tr><tr><td>&quot;AGRODAT&quot;</td><td>&quot;FAR DLICES&quot;</td></tr><tr><td>&quot;LA TABLE DES PECHEURS&quot;</td><td>&quot;MUMM&quot;</td></tr><tr><td>&quot;CLASSIC FOODS OF AMERICA&quot;</td><td>&quot;B5542702 TEFAL&quot;</td></tr><tr><td>&quot;PRUNIER&quot;</td><td>&quot;APEROL&quot;</td></tr><tr><td>&quot;PECHALOU&quot;</td><td>&quot;N 2&quot;</td></tr><tr><td>&quot;LOMBARDO SOTTOLI&quot;</td><td>&quot;ARBRE VERT&quot;</td></tr><tr><td>&quot;SOJASUN&quot;</td><td>&quot;BELVITA&quot;</td></tr><tr><td>&quot;LES RUCHERS DU LUBERON&quot;</td><td>&quot;INNOCENT&quot;</td></tr><tr><td>&quot;MIL BRICK&quot;</td><td>&quot;ENERGIZER&quot;</td></tr><tr><td>&quot;CASA LEONARDO&quot;</td><td>&quot;FICELLO&quot;</td></tr></tbody></table></div>"
      ],
      "text/plain": [
       "shape: (200, 2)\n",
       "┌────────────────────────┬────────────────────┐\n",
       "│ brand_left             ┆ brand_left_right   │\n",
       "│ ---                    ┆ ---                │\n",
       "│ str                    ┆ str                │\n",
       "╞════════════════════════╪════════════════════╡\n",
       "│ BRASSERIE DU COMT      ┆ AOC  MENETOU SALON │\n",
       "│ AURLANE                ┆ TAUREAU AILE       │\n",
       "│ LE JARDIN D'ORANTE     ┆ YUMI               │\n",
       "│ GLORIA                 ┆ 8.6                │\n",
       "│ …                      ┆ …                  │\n",
       "│ SOJASUN                ┆ BELVITA            │\n",
       "│ LES RUCHERS DU LUBERON ┆ INNOCENT           │\n",
       "│ MIL BRICK              ┆ ENERGIZER          │\n",
       "│ CASA LEONARDO          ┆ FICELLO            │\n",
       "└────────────────────────┴────────────────────┘"
      ]
     },
     "metadata": {},
     "output_type": "display_data"
    }
   ],
   "source": [
    "df_cross_join_0 = (\n",
    "    auchan\n",
    "    .select(pl.col('brand_auchan').alias('brand_left'))\n",
    "    .unique()\n",
    "    .join(franprix\n",
    "          .select(pl.col('brand_franprix').alias('brand_left'))\n",
    "          .unique(), \n",
    "          how=\"cross\")\n",
    ")\n",
    "\n",
    "df_cross_join_1 = (\n",
    "    auchan\n",
    "    .select(pl.col('brand_auchan').alias('brand_left'))\n",
    "    .unique()\n",
    "    .join(carrefour\n",
    "          .select(pl.col('brand_carrefour').alias('brand_left'))\n",
    "          .unique(), \n",
    "          how=\"cross\")\n",
    ")\n",
    "\n",
    "df_cross_join_2 = (\n",
    "    carrefour\n",
    "    .select(pl.col('brand_carrefour').alias('brand_left'))\n",
    "    .unique()\n",
    "    .join(franprix\n",
    "          .select(pl.col('brand_franprix').alias('brand_left'))\n",
    "          .unique(), \n",
    "          how=\"cross\")\n",
    ")\n",
    "\n",
    "cross_join = pl.concat([df_cross_join_0, df_cross_join_1, df_cross_join_2]).unique().sample(200)\n",
    "display(cross_join)\n",
    "cross_join.write_csv('data/raw_v2/cross_join.csv', separator=';')"
   ]
  }
 ],
 "metadata": {
  "kernelspec": {
   "display_name": "venv",
   "language": "python",
   "name": "python3"
  },
  "language_info": {
   "codemirror_mode": {
    "name": "ipython",
    "version": 3
   },
   "file_extension": ".py",
   "mimetype": "text/x-python",
   "name": "python",
   "nbconvert_exporter": "python",
   "pygments_lexer": "ipython3",
   "version": "3.11.6"
  }
 },
 "nbformat": 4,
 "nbformat_minor": 2
}
