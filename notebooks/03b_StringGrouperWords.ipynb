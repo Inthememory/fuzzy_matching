{
 "cells": [
  {
   "cell_type": "code",
   "execution_count": 1,
   "metadata": {},
   "outputs": [],
   "source": [
    "import sys\n",
    "sys.path.append(\"../\")"
   ]
  },
  {
   "cell_type": "code",
   "execution_count": 2,
   "metadata": {},
   "outputs": [
    {
     "name": "stderr",
     "output_type": "stream",
     "text": [
      "c:\\Users\\audec\\Documents\\fuzzy_matching\\venv\\Lib\\site-packages\\fuzzywuzzy\\fuzz.py:11: UserWarning: Using slow pure-python SequenceMatcher. Install python-Levenshtein to remove this warning\n",
      "  warnings.warn('Using slow pure-python SequenceMatcher. Install python-Levenshtein to remove this warning')\n"
     ]
    }
   ],
   "source": [
    "import polars as pl\n",
    "import numpy as np\n",
    "import matplotlib.pyplot as plt\n",
    "import yaml\n",
    "\n",
    "from scipy.sparse import csr_matrix\n",
    "from nltk.corpus import stopwords\n",
    "\n",
    "from sklearn.metrics.pairwise import cosine_similarity\n",
    "from sklearn.feature_extraction.text import TfidfVectorizer\n",
    "from sklearn.decomposition import PCA\n",
    "\n",
    "from utils.load_data import *\n",
    "from utils.pairwise_similarity import pairwise_similarity\n",
    "\n",
    "import warnings\n",
    "warnings.simplefilter(action='ignore', category=FutureWarning)\n"
   ]
  },
  {
   "attachments": {},
   "cell_type": "markdown",
   "metadata": {},
   "source": [
    "### Load Data"
   ]
  },
  {
   "cell_type": "code",
   "execution_count": 3,
   "metadata": {},
   "outputs": [],
   "source": [
    "with open(\"../config.yml\", \"r\") as file:\n",
    "    config = yaml.safe_load(file)"
   ]
  },
  {
   "cell_type": "code",
   "execution_count": 4,
   "metadata": {},
   "outputs": [],
   "source": [
    "monoprix_gold = gold('../data/', 'monoprix', config).collect()\n",
    "franprix_gold = gold('../data/', 'franprix', config).collect()\n",
    "auchan_gold = gold('../data/', 'auchan', config).collect()\n",
    "\n",
    "datasets = [monoprix_gold, franprix_gold, auchan_gold]"
   ]
  },
  {
   "cell_type": "code",
   "execution_count": 5,
   "metadata": {},
   "outputs": [],
   "source": [
    "dataset_init = (\n",
    "    pl.concat(\n",
    "        [\n",
    "            dataset.select(pl.col(\"brand_desc_slug\"))\n",
    "            for dataset in datasets\n",
    "        ], \n",
    "        how=\"vertical\"\n",
    "        )\n",
    "    .unique()\n",
    "    )"
   ]
  },
  {
   "attachments": {},
   "cell_type": "markdown",
   "metadata": {},
   "source": [
    "#### TF-IDF, Words"
   ]
  },
  {
   "cell_type": "code",
   "execution_count": 6,
   "metadata": {},
   "outputs": [
    {
     "name": "stdout",
     "output_type": "stream",
     "text": [
      "(6516, 6084)\n"
     ]
    },
    {
     "data": {
      "text/html": [
       "<div><style>\n",
       ".dataframe > thead > tr > th,\n",
       ".dataframe > tbody > tr > td {\n",
       "  text-align: right;\n",
       "}\n",
       "</style>\n",
       "<small>shape: (5, 6_084)</small><table border=\"1\" class=\"dataframe\"><thead><tr><th>abatilles</th><th>abbaye</th><th>abbey</th><th>abeilles</th><th>aberfeldy</th><th>aberlour</th><th>abord</th><th>absinthe</th><th>absolu</th><th>absolut</th><th>abtey</th><th>abus</th><th>abystyle</th><th>abyx</th><th>access</th><th>accessibles</th><th>accessoires</th><th>accro</th><th>acer</th><th>ach</th><th>achva</th><th>acorelle</th><th>acoustics</th><th>acteur</th><th>acteurs</th><th>actimel</th><th>action</th><th>activ</th><th>active</th><th>activia</th><th>activilong</th><th>activision</th><th>actuel</th><th>ad</th><th>adam</th><th>adapt</th><th>addax</th><th>&hellip;</th><th>yuasa</th><th>yukik</th><th>yum</th><th>yumi</th><th>yunnan</th><th>zakia</th><th>zani</th><th>zapetti</th><th>zefal</th><th>zelande</th><th>zen</th><th>zenae</th><th>zenitech</th><th>zensect</th><th>zenspire</th><th>zero</th><th>zeromoustique</th><th>zhiyun</th><th>ziclean</th><th>zifel</th><th>zilia</th><th>zip</th><th>zipetzap</th><th>zipit</th><th>zobrowka</th><th>zodiac</th><th>zoe</th><th>zohi</th><th>zolux</th><th>zon</th><th>zoom</th><th>zortrax</th><th>zubrowka</th><th>zuru</th><th>zwilling</th><th>zyliss</th><th>zzz</th></tr><tr><td>f64</td><td>f64</td><td>f64</td><td>f64</td><td>f64</td><td>f64</td><td>f64</td><td>f64</td><td>f64</td><td>f64</td><td>f64</td><td>f64</td><td>f64</td><td>f64</td><td>f64</td><td>f64</td><td>f64</td><td>f64</td><td>f64</td><td>f64</td><td>f64</td><td>f64</td><td>f64</td><td>f64</td><td>f64</td><td>f64</td><td>f64</td><td>f64</td><td>f64</td><td>f64</td><td>f64</td><td>f64</td><td>f64</td><td>f64</td><td>f64</td><td>f64</td><td>f64</td><td>&hellip;</td><td>f64</td><td>f64</td><td>f64</td><td>f64</td><td>f64</td><td>f64</td><td>f64</td><td>f64</td><td>f64</td><td>f64</td><td>f64</td><td>f64</td><td>f64</td><td>f64</td><td>f64</td><td>f64</td><td>f64</td><td>f64</td><td>f64</td><td>f64</td><td>f64</td><td>f64</td><td>f64</td><td>f64</td><td>f64</td><td>f64</td><td>f64</td><td>f64</td><td>f64</td><td>f64</td><td>f64</td><td>f64</td><td>f64</td><td>f64</td><td>f64</td><td>f64</td><td>f64</td></tr></thead><tbody><tr><td>0.0</td><td>0.0</td><td>0.0</td><td>0.0</td><td>0.0</td><td>0.0</td><td>0.0</td><td>0.0</td><td>0.0</td><td>0.0</td><td>0.0</td><td>0.0</td><td>0.0</td><td>0.0</td><td>0.0</td><td>0.0</td><td>0.0</td><td>0.0</td><td>0.0</td><td>0.0</td><td>0.0</td><td>0.0</td><td>0.0</td><td>0.0</td><td>0.0</td><td>0.0</td><td>0.0</td><td>0.0</td><td>0.0</td><td>0.0</td><td>0.0</td><td>0.0</td><td>0.0</td><td>0.0</td><td>0.0</td><td>0.0</td><td>0.0</td><td>&hellip;</td><td>0.0</td><td>0.0</td><td>0.0</td><td>0.0</td><td>0.0</td><td>0.0</td><td>0.0</td><td>0.0</td><td>0.0</td><td>0.0</td><td>0.0</td><td>0.0</td><td>0.0</td><td>0.0</td><td>0.0</td><td>0.0</td><td>0.0</td><td>0.0</td><td>0.0</td><td>0.0</td><td>0.0</td><td>0.0</td><td>0.0</td><td>0.0</td><td>0.0</td><td>0.0</td><td>0.0</td><td>0.0</td><td>0.0</td><td>0.0</td><td>0.0</td><td>0.0</td><td>0.0</td><td>0.0</td><td>0.0</td><td>0.0</td><td>0.0</td></tr><tr><td>0.0</td><td>0.0</td><td>0.0</td><td>0.0</td><td>0.0</td><td>0.0</td><td>0.0</td><td>0.0</td><td>0.0</td><td>0.0</td><td>0.0</td><td>0.0</td><td>0.0</td><td>0.0</td><td>0.0</td><td>0.0</td><td>0.0</td><td>0.0</td><td>0.0</td><td>0.0</td><td>0.0</td><td>0.0</td><td>0.0</td><td>0.0</td><td>0.0</td><td>0.0</td><td>0.0</td><td>0.0</td><td>0.0</td><td>0.0</td><td>0.0</td><td>0.0</td><td>0.0</td><td>0.0</td><td>0.0</td><td>0.0</td><td>0.0</td><td>&hellip;</td><td>0.0</td><td>0.0</td><td>0.0</td><td>0.0</td><td>0.0</td><td>0.0</td><td>0.0</td><td>0.0</td><td>0.0</td><td>0.0</td><td>0.0</td><td>0.0</td><td>0.0</td><td>0.0</td><td>0.0</td><td>0.0</td><td>0.0</td><td>0.0</td><td>0.0</td><td>0.0</td><td>0.0</td><td>0.0</td><td>0.0</td><td>0.0</td><td>0.0</td><td>0.0</td><td>0.0</td><td>0.0</td><td>0.0</td><td>0.0</td><td>0.0</td><td>0.0</td><td>0.0</td><td>0.0</td><td>0.0</td><td>0.0</td><td>0.0</td></tr><tr><td>0.0</td><td>0.0</td><td>0.0</td><td>0.0</td><td>0.0</td><td>0.0</td><td>0.0</td><td>0.0</td><td>0.0</td><td>0.0</td><td>0.0</td><td>0.0</td><td>0.0</td><td>0.0</td><td>0.0</td><td>0.0</td><td>0.0</td><td>0.0</td><td>0.0</td><td>0.0</td><td>0.0</td><td>0.0</td><td>0.0</td><td>0.0</td><td>0.0</td><td>0.0</td><td>0.0</td><td>0.0</td><td>0.0</td><td>0.0</td><td>0.0</td><td>0.0</td><td>0.0</td><td>0.0</td><td>0.0</td><td>0.0</td><td>0.0</td><td>&hellip;</td><td>0.0</td><td>0.0</td><td>0.0</td><td>0.0</td><td>0.0</td><td>0.0</td><td>0.0</td><td>0.0</td><td>0.0</td><td>0.0</td><td>0.0</td><td>0.0</td><td>0.0</td><td>0.0</td><td>0.0</td><td>0.0</td><td>0.0</td><td>0.0</td><td>0.0</td><td>0.0</td><td>0.0</td><td>0.0</td><td>0.0</td><td>0.0</td><td>0.0</td><td>0.0</td><td>0.0</td><td>0.0</td><td>0.0</td><td>0.0</td><td>0.0</td><td>0.0</td><td>0.0</td><td>0.0</td><td>0.0</td><td>0.0</td><td>0.0</td></tr><tr><td>0.0</td><td>0.0</td><td>0.0</td><td>0.0</td><td>0.0</td><td>0.0</td><td>0.0</td><td>0.0</td><td>0.0</td><td>0.0</td><td>0.0</td><td>0.0</td><td>0.0</td><td>0.0</td><td>0.0</td><td>0.0</td><td>0.0</td><td>0.0</td><td>0.0</td><td>0.0</td><td>0.0</td><td>0.0</td><td>0.0</td><td>0.0</td><td>0.0</td><td>0.0</td><td>0.0</td><td>0.0</td><td>0.0</td><td>0.0</td><td>0.0</td><td>0.0</td><td>0.0</td><td>0.0</td><td>0.0</td><td>0.0</td><td>0.0</td><td>&hellip;</td><td>0.0</td><td>0.0</td><td>0.0</td><td>0.0</td><td>0.0</td><td>0.0</td><td>0.0</td><td>0.0</td><td>0.0</td><td>0.0</td><td>0.0</td><td>0.0</td><td>0.0</td><td>0.0</td><td>0.0</td><td>0.0</td><td>0.0</td><td>0.0</td><td>0.0</td><td>0.0</td><td>0.0</td><td>0.0</td><td>0.0</td><td>0.0</td><td>0.0</td><td>0.0</td><td>0.0</td><td>0.0</td><td>0.0</td><td>0.0</td><td>0.0</td><td>0.0</td><td>0.0</td><td>0.0</td><td>0.0</td><td>0.0</td><td>0.0</td></tr><tr><td>0.0</td><td>0.0</td><td>0.0</td><td>0.0</td><td>0.0</td><td>0.0</td><td>0.0</td><td>0.0</td><td>0.0</td><td>0.0</td><td>0.0</td><td>0.0</td><td>0.0</td><td>0.0</td><td>0.0</td><td>0.0</td><td>0.0</td><td>0.0</td><td>0.0</td><td>0.0</td><td>0.0</td><td>0.0</td><td>0.0</td><td>0.0</td><td>0.0</td><td>0.0</td><td>0.0</td><td>0.0</td><td>0.0</td><td>0.0</td><td>0.0</td><td>0.0</td><td>0.0</td><td>0.0</td><td>0.0</td><td>0.0</td><td>0.0</td><td>&hellip;</td><td>0.0</td><td>0.0</td><td>0.0</td><td>0.0</td><td>0.0</td><td>0.0</td><td>0.0</td><td>0.0</td><td>0.0</td><td>0.0</td><td>0.0</td><td>0.0</td><td>0.0</td><td>0.0</td><td>0.0</td><td>0.0</td><td>0.0</td><td>0.0</td><td>0.0</td><td>0.0</td><td>0.0</td><td>0.0</td><td>0.0</td><td>0.0</td><td>0.0</td><td>0.0</td><td>0.0</td><td>0.0</td><td>0.0</td><td>0.0</td><td>0.0</td><td>0.0</td><td>0.0</td><td>0.0</td><td>0.0</td><td>0.0</td><td>0.0</td></tr></tbody></table></div>"
      ],
      "text/plain": [
       "shape: (5, 6_084)\n",
       "┌───────────┬────────┬───────┬──────────┬───┬──────┬──────────┬────────┬─────┐\n",
       "│ abatilles ┆ abbaye ┆ abbey ┆ abeilles ┆ … ┆ zuru ┆ zwilling ┆ zyliss ┆ zzz │\n",
       "│ ---       ┆ ---    ┆ ---   ┆ ---      ┆   ┆ ---  ┆ ---      ┆ ---    ┆ --- │\n",
       "│ f64       ┆ f64    ┆ f64   ┆ f64      ┆   ┆ f64  ┆ f64      ┆ f64    ┆ f64 │\n",
       "╞═══════════╪════════╪═══════╪══════════╪═══╪══════╪══════════╪════════╪═════╡\n",
       "│ 0.0       ┆ 0.0    ┆ 0.0   ┆ 0.0      ┆ … ┆ 0.0  ┆ 0.0      ┆ 0.0    ┆ 0.0 │\n",
       "│ 0.0       ┆ 0.0    ┆ 0.0   ┆ 0.0      ┆ … ┆ 0.0  ┆ 0.0      ┆ 0.0    ┆ 0.0 │\n",
       "│ 0.0       ┆ 0.0    ┆ 0.0   ┆ 0.0      ┆ … ┆ 0.0  ┆ 0.0      ┆ 0.0    ┆ 0.0 │\n",
       "│ 0.0       ┆ 0.0    ┆ 0.0   ┆ 0.0      ┆ … ┆ 0.0  ┆ 0.0      ┆ 0.0    ┆ 0.0 │\n",
       "│ 0.0       ┆ 0.0    ┆ 0.0   ┆ 0.0      ┆ … ┆ 0.0  ┆ 0.0      ┆ 0.0    ┆ 0.0 │\n",
       "└───────────┴────────┴───────┴──────────┴───┴──────┴──────────┴────────┴─────┘"
      ]
     },
     "execution_count": 6,
     "metadata": {},
     "output_type": "execute_result"
    }
   ],
   "source": [
    "# Grab the column to group (values must be Unicode) Unique ? \n",
    "dataset = dataset_init['brand_desc_slug']\n",
    "stopwords_list = stopwords.words('english') + stopwords.words('french')\n",
    "\n",
    "## generate the matrix of TF-IDF values for each item - Ngram\n",
    "vectorizer = TfidfVectorizer(stop_words=stopwords_list, analyzer='word', token_pattern=r'(?u)\\b[A-Za-z]{2,}\\b')\n",
    "tf_idf_matrix = vectorizer.fit_transform(dataset)\n",
    "\n",
    "tfidf_tokens = vectorizer.get_feature_names_out()\n",
    "\n",
    "df_tfidfvect = pl.DataFrame(data=tf_idf_matrix.toarray(), schema=tfidf_tokens.tolist())\n",
    "\n",
    "# print(dataset[0])\n",
    "# print(len(tfidf_tokens), tfidf_tokens)\n",
    "print(tf_idf_matrix.shape)\n",
    "# print(tf_idf_matrix[1])\n",
    "\n",
    "df_tfidfvect.head()"
   ]
  },
  {
   "cell_type": "code",
   "execution_count": 7,
   "metadata": {},
   "outputs": [
    {
     "name": "stdout",
     "output_type": "stream",
     "text": [
      "(6468, 6086)\n"
     ]
    }
   ],
   "source": [
    "## filter brands with only figures and less than 3 letters\n",
    "df_tfidfvect_filter = (\n",
    "    pl.concat([dataset_init.select(pl.col('brand_desc_slug')), df_tfidfvect.with_columns(pl.sum(pl.all()).alias('sum'))], how=\"horizontal\")\n",
    "    .filter(pl.col('sum')>0)\n",
    ")\n",
    "print(df_tfidfvect_filter.shape)"
   ]
  },
  {
   "cell_type": "code",
   "execution_count": 8,
   "metadata": {},
   "outputs": [
    {
     "name": "stdout",
     "output_type": "stream",
     "text": [
      "6468\n"
     ]
    }
   ],
   "source": [
    "name_vector = (\n",
    "    df_tfidfvect_filter\n",
    "    .get_columns()[0]\n",
    "    .to_list()\n",
    ")\n",
    "print(len(name_vector))\n",
    "\n",
    "df_tfidfvect_filter = df_tfidfvect_filter.drop('brand_desc_slug')"
   ]
  },
  {
   "attachments": {},
   "cell_type": "markdown",
   "metadata": {},
   "source": [
    "### Dimensionality reduction "
   ]
  },
  {
   "cell_type": "code",
   "execution_count": 9,
   "metadata": {},
   "outputs": [
    {
     "data": {
      "text/plain": [
       "'Total variance explained: 0.36'"
      ]
     },
     "execution_count": 9,
     "metadata": {},
     "output_type": "execute_result"
    }
   ],
   "source": [
    "pca = PCA(n_components=650)\n",
    "tf_idf_matrix_pca = pca.fit_transform(df_tfidfvect_filter)\n",
    "# plt.plot(np.cumsum(pca.explained_variance_ratio_))\n",
    "(f\"Total variance explained: {np.sum(pca.explained_variance_ratio_):.2f}\")"
   ]
  },
  {
   "cell_type": "code",
   "execution_count": 10,
   "metadata": {},
   "outputs": [
    {
     "data": {
      "text/plain": [
       "3425"
      ]
     },
     "execution_count": 10,
     "metadata": {},
     "output_type": "execute_result"
    }
   ],
   "source": [
    "pca = PCA(n_components=0.80)\n",
    "tf_idf_matrix_pca = pca.fit_transform(df_tfidfvect_filter)\n",
    "pca.n_components_\n",
    "# (f\"Total variance explained: {np.sum(pca.explained_variance_ratio_):.2f}\")"
   ]
  },
  {
   "cell_type": "code",
   "execution_count": 11,
   "metadata": {},
   "outputs": [
    {
     "name": "stdout",
     "output_type": "stream",
     "text": [
      "22152057 22152057\n"
     ]
    },
    {
     "data": {
      "text/plain": [
       "array([ 4.98655243e-01, -3.18075134e-02, -2.35536369e-02, ...,\n",
       "       -3.74074507e-04,  4.59044640e-03,  1.67322683e-02])"
      ]
     },
     "execution_count": 11,
     "metadata": {},
     "output_type": "execute_result"
    }
   ],
   "source": [
    "concat_matrix = csr_matrix(tf_idf_matrix_pca)\n",
    "\n",
    "print(len(concat_matrix.nonzero()[0]), len(concat_matrix.nonzero()[1]))\n",
    "concat_matrix.data"
   ]
  },
  {
   "attachments": {},
   "cell_type": "markdown",
   "metadata": {},
   "source": [
    "### Similarity"
   ]
  },
  {
   "cell_type": "code",
   "execution_count": 12,
   "metadata": {},
   "outputs": [
    {
     "name": "stdout",
     "output_type": "stream",
     "text": [
      "(array([   0,    0,    0, ..., 6467, 6467, 6467]), array([   0,    1,    2, ..., 6465, 6466, 6467]))\n",
      "41835024 41835024\n",
      "[ 1.         -0.10449687  0.24642381 ...  0.03637915 -0.04923008\n",
      "  1.        ]\n"
     ]
    }
   ],
   "source": [
    "# Compute cosine similarity matrix\n",
    "cosine_similarity = cosine_similarity(concat_matrix)\n",
    "cosine_similarity_csr = csr_matrix(cosine_similarity) \n",
    "\n",
    "print(cosine_similarity_csr.nonzero())\n",
    "print(len(cosine_similarity_csr.nonzero()[0]), len(cosine_similarity_csr.nonzero()[1]))\n",
    "print(cosine_similarity_csr.data)\n",
    "\n",
    "# pdist(concat_matrix, metric='cosine')"
   ]
  },
  {
   "cell_type": "code",
   "execution_count": 13,
   "metadata": {},
   "outputs": [
    {
     "name": "stdout",
     "output_type": "stream",
     "text": [
      "shape: (41_835_024, 3)\n",
      "┌───────────────────────────────────┬───────────────────────────────────┬────────────┐\n",
      "│ left_side                         ┆ right_side                        ┆ similarity │\n",
      "│ ---                               ┆ ---                               ┆ ---        │\n",
      "│ str                               ┆ str                               ┆ f64        │\n",
      "╞═══════════════════════════════════╪═══════════════════════════════════╪════════════╡\n",
      "│ RIBILAND                          ┆ RIBILAND                          ┆ 1.0        │\n",
      "│ ALFAPAC                           ┆ ALFAPAC                           ┆ 1.0        │\n",
      "│ CASTELAIN                         ┆ CASTELAIN                         ┆ 1.0        │\n",
      "│ BITDEFENDER                       ┆ BITDEFENDER                       ┆ 1.0        │\n",
      "│ …                                 ┆ …                                 ┆ …          │\n",
      "│ F C BARCELONA                     ┆ JOHN FRIDA BYE BYE CHEVEUX BLANC… ┆ -0.86463   │\n",
      "│ JOHN FRIDA BYE BYE CHEVEUX BLANC… ┆ F C BARCELONA                     ┆ -0.86463   │\n",
      "│ ANKER                             ┆ JOHN FRIDA BYE BYE CHEVEUX BLANC… ┆ -0.865229  │\n",
      "│ JOHN FRIDA BYE BYE CHEVEUX BLANC… ┆ ANKER                             ┆ -0.865229  │\n",
      "└───────────────────────────────────┴───────────────────────────────────┴────────────┘\n",
      "(41835024, 3)\n"
     ]
    }
   ],
   "source": [
    "df_cossim = pairwise_similarity(cosine_similarity_csr, name_vector)\n",
    "df_cossim = (\n",
    "    df_cossim\n",
    "    .sort(by=['similarity'], descending = True)\n",
    " )\n",
    " \n",
    "print(df_cossim)\n",
    "print(df_cossim.shape)\n",
    "df_cossim.select(pl.col('left_side'), pl.col('right_side'), pl.col('similarity').alias('similarity_sg')).write_csv('../temp_folder/SGWords_cossim.csv', separator=\";\")"
   ]
  }
 ],
 "metadata": {
  "kernelspec": {
   "display_name": "venv",
   "language": "python",
   "name": "python3"
  },
  "language_info": {
   "codemirror_mode": {
    "name": "ipython",
    "version": 3
   },
   "file_extension": ".py",
   "mimetype": "text/x-python",
   "name": "python",
   "nbconvert_exporter": "python",
   "pygments_lexer": "ipython3",
   "version": "3.11.4"
  },
  "orig_nbformat": 4
 },
 "nbformat": 4,
 "nbformat_minor": 2
}
