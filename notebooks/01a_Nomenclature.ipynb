{
 "cells": [
  {
   "cell_type": "code",
   "execution_count": 1,
   "metadata": {},
   "outputs": [],
   "source": [
    "import sys\n",
    "sys.path.append(\"../\")"
   ]
  },
  {
   "cell_type": "code",
   "execution_count": 2,
   "metadata": {},
   "outputs": [
    {
     "name": "stderr",
     "output_type": "stream",
     "text": [
      "c:\\Users\\audec\\Documents\\fuzzy_matching\\venv\\Lib\\site-packages\\fuzzywuzzy\\fuzz.py:11: UserWarning: Using slow pure-python SequenceMatcher. Install python-Levenshtein to remove this warning\n",
      "  warnings.warn('Using slow pure-python SequenceMatcher. Install python-Levenshtein to remove this warning')\n"
     ]
    }
   ],
   "source": [
    "import polars as pl\n",
    "import yaml\n",
    "\n",
    "from scipy.sparse import csr_matrix\n",
    "from sklearn.metrics.pairwise import cosine_similarity\n",
    "\n",
    "from sklearn.decomposition import PCA\n",
    "\n",
    "from utils.load_data import *\n",
    "from utils.pairwise_similarity import pairwise_similarity\n",
    "\n",
    "import warnings\n",
    "warnings.simplefilter(action='ignore', category=FutureWarning)"
   ]
  },
  {
   "attachments": {},
   "cell_type": "markdown",
   "metadata": {},
   "source": [
    "### Load Data"
   ]
  },
  {
   "cell_type": "code",
   "execution_count": 3,
   "metadata": {},
   "outputs": [],
   "source": [
    "with open(\"../config.yml\", \"r\") as file:\n",
    "    config = yaml.safe_load(file)"
   ]
  },
  {
   "cell_type": "code",
   "execution_count": 4,
   "metadata": {},
   "outputs": [],
   "source": [
    "monoprix_gold = gold('../data/', 'monoprix', config).collect()\n",
    "franprix_gold = gold('../data/', 'franprix', config).collect()\n",
    "auchan_gold = gold('../data/', 'auchan', config).collect()\n",
    "\n",
    "datasets = [monoprix_gold, franprix_gold, auchan_gold]"
   ]
  },
  {
   "cell_type": "code",
   "execution_count": 5,
   "metadata": {},
   "outputs": [
    {
     "name": "stdout",
     "output_type": "stream",
     "text": [
      "(99359, 11)\n"
     ]
    },
    {
     "data": {
      "text/html": [
       "<div><style>\n",
       ".dataframe > thead > tr > th,\n",
       ".dataframe > tbody > tr > td {\n",
       "  text-align: right;\n",
       "}\n",
       "</style>\n",
       "<small>shape: (5, 11)</small><table border=\"1\" class=\"dataframe\"><thead><tr><th>product_id</th><th>level0_0</th><th>level1_0</th><th>level2_0</th><th>level0_1</th><th>level1_1</th><th>level2_1</th><th>level0_2</th><th>level1_2</th><th>level2_2</th><th>brand_desc_slug</th></tr><tr><td>str</td><td>str</td><td>str</td><td>str</td><td>str</td><td>str</td><td>str</td><td>str</td><td>str</td><td>str</td><td>str</td></tr></thead><tbody><tr><td>&quot;0000000001649&quot;</td><td>null</td><td>null</td><td>null</td><td>&quot;SURGELES&quot;</td><td>&quot;GLACES ET PATI…</td><td>&quot;PATISSERIE ET …</td><td>null</td><td>null</td><td>null</td><td>&quot;LITTLE MOONS M…</td></tr><tr><td>&quot;0000000007198&quot;</td><td>null</td><td>null</td><td>null</td><td>&quot;FRUITS ET LEGU…</td><td>&quot;FRUITS&quot;</td><td>&quot;MELON ET PASTE…</td><td>null</td><td>null</td><td>null</td><td>&quot;BIO ENSEMBLE&quot;</td></tr><tr><td>&quot;0000000007256&quot;</td><td>null</td><td>null</td><td>null</td><td>&quot;FRUITS ET LEGU…</td><td>&quot;FRUITS ET LEGU…</td><td>&quot;BIO FRUITS ET …</td><td>null</td><td>null</td><td>null</td><td>&quot;BIO ENSEMBLE&quot;</td></tr><tr><td>&quot;0000000007395&quot;</td><td>null</td><td>null</td><td>null</td><td>&quot;FRUITS ET LEGU…</td><td>&quot;LEGUMES&quot;</td><td>&quot;AIL OIGNONS HE…</td><td>null</td><td>null</td><td>null</td><td>&quot;BIO ENSEMBLE&quot;</td></tr><tr><td>&quot;0000000007396&quot;</td><td>null</td><td>null</td><td>null</td><td>&quot;FRUITS ET LEGU…</td><td>&quot;LEGUMES&quot;</td><td>&quot;AIL OIGNONS HE…</td><td>null</td><td>null</td><td>null</td><td>&quot;BIO ENSEMBLE&quot;</td></tr></tbody></table></div>"
      ],
      "text/plain": [
       "shape: (5, 11)\n",
       "┌───────────────┬──────────┬──────────┬──────────┬───┬──────────┬──────────┬──────────┬────────────┐\n",
       "│ product_id    ┆ level0_0 ┆ level1_0 ┆ level2_0 ┆ … ┆ level0_2 ┆ level1_2 ┆ level2_2 ┆ brand_desc │\n",
       "│ ---           ┆ ---      ┆ ---      ┆ ---      ┆   ┆ ---      ┆ ---      ┆ ---      ┆ _slug      │\n",
       "│ str           ┆ str      ┆ str      ┆ str      ┆   ┆ str      ┆ str      ┆ str      ┆ ---        │\n",
       "│               ┆          ┆          ┆          ┆   ┆          ┆          ┆          ┆ str        │\n",
       "╞═══════════════╪══════════╪══════════╪══════════╪═══╪══════════╪══════════╪══════════╪════════════╡\n",
       "│ 0000000001649 ┆ null     ┆ null     ┆ null     ┆ … ┆ null     ┆ null     ┆ null     ┆ LITTLE     │\n",
       "│               ┆          ┆          ┆          ┆   ┆          ┆          ┆          ┆ MOONS      │\n",
       "│               ┆          ┆          ┆          ┆   ┆          ┆          ┆          ┆ MOCHI      │\n",
       "│ 0000000007198 ┆ null     ┆ null     ┆ null     ┆ … ┆ null     ┆ null     ┆ null     ┆ BIO        │\n",
       "│               ┆          ┆          ┆          ┆   ┆          ┆          ┆          ┆ ENSEMBLE   │\n",
       "│ 0000000007256 ┆ null     ┆ null     ┆ null     ┆ … ┆ null     ┆ null     ┆ null     ┆ BIO        │\n",
       "│               ┆          ┆          ┆          ┆   ┆          ┆          ┆          ┆ ENSEMBLE   │\n",
       "│ 0000000007395 ┆ null     ┆ null     ┆ null     ┆ … ┆ null     ┆ null     ┆ null     ┆ BIO        │\n",
       "│               ┆          ┆          ┆          ┆   ┆          ┆          ┆          ┆ ENSEMBLE   │\n",
       "│ 0000000007396 ┆ null     ┆ null     ┆ null     ┆ … ┆ null     ┆ null     ┆ null     ┆ BIO        │\n",
       "│               ┆          ┆          ┆          ┆   ┆          ┆          ┆          ┆ ENSEMBLE   │\n",
       "└───────────────┴──────────┴──────────┴──────────┴───┴──────────┴──────────┴──────────┴────────────┘"
      ]
     },
     "execution_count": 5,
     "metadata": {},
     "output_type": "execute_result"
    }
   ],
   "source": [
    "dataset_init = (\n",
    "    pl.concat(\n",
    "        [\n",
    "            dataset\n",
    "            .select([pl.col(\"product_id\"), pl.col(\"brand_desc_slug\").alias(f'brand_desc_slug_{i}')]\n",
    "            + [pl.col(f'level{l}').alias(f\"level{l}_{i}\") for l in config['classification_levels']])\n",
    "            for i, dataset in enumerate(datasets)\n",
    "        ], \n",
    "        how=\"align\"\n",
    "        )\n",
    "    .with_columns(pl.concat_list([f'brand_desc_slug_{i}' for i, _ in enumerate(datasets)]).alias('brand_desc_slug'))\n",
    "    .drop([f'brand_desc_slug_{i}' for i, _ in enumerate(datasets)])\n",
    "    .explode(\"brand_desc_slug\")\n",
    "    .filter(pl.col('brand_desc_slug').is_not_null())\n",
    ")\n",
    "print(dataset_init.shape)\n",
    "dataset_init.head(5)"
   ]
  },
  {
   "attachments": {},
   "cell_type": "markdown",
   "metadata": {},
   "source": [
    "### Preprocessing"
   ]
  },
  {
   "cell_type": "code",
   "execution_count": 6,
   "metadata": {},
   "outputs": [
    {
     "name": "stdout",
     "output_type": "stream",
     "text": [
      "(6516, 1126)\n"
     ]
    },
    {
     "data": {
      "text/html": [
       "<div><style>\n",
       ".dataframe > thead > tr > th,\n",
       ".dataframe > tbody > tr > td {\n",
       "  text-align: right;\n",
       "}\n",
       "</style>\n",
       "<small>shape: (5, 1_126)</small><table border=\"1\" class=\"dataframe\"><thead><tr><th>brand_desc_slug</th><th>level0_0_ANIMAUX</th><th>level0_0_BEAUTY WEEK</th><th>level0_0_BEBE</th><th>level0_0_BOISSON CAVE</th><th>level0_0_BOUCHERIE VOLAILLE</th><th>level0_0_CHARCUTERIE</th><th>level0_0_CREMERIE</th><th>level0_0_ENTRETIEN</th><th>level0_0_EPICERIE SALEE</th><th>level0_0_EPICERIE SUCREE</th><th>level0_0_FRUIT LEGUME</th><th>level0_0_HYGIENE BEAUTE</th><th>level0_0_MAISON</th><th>level0_0_NUTRITION DIETETIQUE</th><th>level0_0_PAIN VIENNOISERIE</th><th>level0_0_PARAPHARMACIE</th><th>level0_0_PRODUIT DE LA MER</th><th>level0_0_SURGELES</th><th>level0_0_TRAITEUR</th><th>level1_0_20 SUPPLEMENTAIRES AVEC LA CARTE M</th><th>level1_0_ACCESSOIRE MENAGER</th><th>level1_0_ALCOOL COCKTAIL</th><th>level1_0_ALIMENTATION BEBE</th><th>level1_0_APERITIF ENTREE SNACK</th><th>level1_0_APERITIF FRAIS</th><th>level1_0_ASSAISONNEMENT CONDIMENT</th><th>level1_0_BEAUTE BIO</th><th>level1_0_BEURRE MARGARINE</th><th>level1_0_BIERE CIDRE</th><th>level1_0_BISCOTTE TARTINE GALETTE DE RIZ</th><th>level1_0_BISCUIT SEC</th><th>level1_0_BOEUF</th><th>level1_0_BOISSON VEGETALE</th><th>level1_0_BOUCHERIE A LA COUPE</th><th>level1_0_BOUCHERIE VOLAILLE BIO</th><th>level1_0_BRICOLAGE</th><th>&hellip;</th><th>level2_1_SAUCISSES KNACKS ET BOUDINS</th><th>level2_1_SAUCISSONS ENTIERS ET CHORIZO</th><th>level2_1_SAUMON FUME ET TRUITE</th><th>level2_1_SAVONS ET RECHARGES</th><th>level2_1_SELS POIVRES ET EPICES</th><th>level2_1_SHAMPOINGS SHAMPOINGS SECS</th><th>level2_1_SIROPS</th><th>level2_1_SOLS VITRES ET MEUBLES</th><th>level2_1_SOUPES ET VELOUTES</th><th>level2_1_STEAK ET VIANDE HACHEE SURGELES</th><th>level2_1_SUCRES EN POUDRE SUCRES EN MORCEAUX</th><th>level2_1_SURIMI ET TRAITEUR DE LA MER</th><th>level2_1_TABLETTES DE CHOCOLAT</th><th>level2_1_TABLETTES ET ENTRETIEN LAVE VAISSELLE</th><th>level2_1_TARTES ET ENTREES SURGELEES</th><th>level2_1_TARTINABLE</th><th>level2_1_TARTINABLE ET APERITIF DE LA MER</th><th>level2_1_TEXTILE</th><th>level2_1_THE</th><th>level2_1_THE ET INFUSIONS</th><th>level2_1_THE INFUSION ET COMPLEMENTS</th><th>level2_1_TOUT POUR LA FETE</th><th>level2_1_TRAITEUR VEGETAL</th><th>level2_1_USTENSILES DE CUISINE</th><th>level2_1_USTENSILES DE CUISINE ET MAISON</th><th>level2_1_VAISSELLES JETABLES</th><th>level2_1_VERRE PICARDIE 250ML M</th><th>level2_1_VINAIGRES VINAIGRETTES ET SAUCES SALADES</th><th>level2_1_VODKA RHUM GIN</th><th>level2_1_VOLAILLE</th><th>level2_1_VOLAILLE ET BOULETTES SURGELEES</th><th>level2_1_WHISKY</th><th>level2_1_YAOURT ALLEGE BIEN ETRE ET SKYR</th><th>level2_1_YAOURT ET FROMAGE BLANC NATURE</th><th>level2_1_YAOURTS A BOIRE ET ENFANT</th><th>level2_1_YAOURTS AUX FRUITS ET AROMATISES</th><th>level2_1_YAOURTS BREBIS ET CHEVRE</th></tr><tr><td>str</td><td>u8</td><td>u8</td><td>u8</td><td>u8</td><td>u8</td><td>u8</td><td>u8</td><td>u8</td><td>u8</td><td>u8</td><td>u8</td><td>u8</td><td>u8</td><td>u8</td><td>u8</td><td>u8</td><td>u8</td><td>u8</td><td>u8</td><td>u8</td><td>u8</td><td>u8</td><td>u8</td><td>u8</td><td>u8</td><td>u8</td><td>u8</td><td>u8</td><td>u8</td><td>u8</td><td>u8</td><td>u8</td><td>u8</td><td>u8</td><td>u8</td><td>u8</td><td>&hellip;</td><td>u8</td><td>u8</td><td>u8</td><td>u8</td><td>u8</td><td>u8</td><td>u8</td><td>u8</td><td>u8</td><td>u8</td><td>u8</td><td>u8</td><td>u8</td><td>u8</td><td>u8</td><td>u8</td><td>u8</td><td>u8</td><td>u8</td><td>u8</td><td>u8</td><td>u8</td><td>u8</td><td>u8</td><td>u8</td><td>u8</td><td>u8</td><td>u8</td><td>u8</td><td>u8</td><td>u8</td><td>u8</td><td>u8</td><td>u8</td><td>u8</td><td>u8</td><td>u8</td></tr></thead><tbody><tr><td>&quot;24TERRE CAFE&quot;</td><td>0</td><td>0</td><td>0</td><td>1</td><td>0</td><td>0</td><td>0</td><td>0</td><td>0</td><td>0</td><td>0</td><td>0</td><td>0</td><td>0</td><td>0</td><td>0</td><td>0</td><td>0</td><td>0</td><td>0</td><td>0</td><td>0</td><td>0</td><td>0</td><td>0</td><td>0</td><td>0</td><td>0</td><td>0</td><td>0</td><td>0</td><td>0</td><td>0</td><td>0</td><td>0</td><td>0</td><td>&hellip;</td><td>0</td><td>0</td><td>0</td><td>0</td><td>0</td><td>0</td><td>0</td><td>0</td><td>0</td><td>0</td><td>0</td><td>0</td><td>0</td><td>0</td><td>0</td><td>0</td><td>0</td><td>0</td><td>0</td><td>0</td><td>0</td><td>0</td><td>0</td><td>0</td><td>0</td><td>0</td><td>0</td><td>0</td><td>0</td><td>0</td><td>0</td><td>0</td><td>0</td><td>0</td><td>0</td><td>0</td><td>0</td></tr><tr><td>&quot;WONDERBAG&quot;</td><td>0</td><td>0</td><td>0</td><td>0</td><td>0</td><td>0</td><td>0</td><td>0</td><td>0</td><td>0</td><td>0</td><td>0</td><td>0</td><td>0</td><td>0</td><td>0</td><td>0</td><td>0</td><td>0</td><td>0</td><td>0</td><td>0</td><td>0</td><td>0</td><td>0</td><td>0</td><td>0</td><td>0</td><td>0</td><td>0</td><td>0</td><td>0</td><td>0</td><td>0</td><td>0</td><td>0</td><td>&hellip;</td><td>0</td><td>0</td><td>0</td><td>0</td><td>0</td><td>0</td><td>0</td><td>0</td><td>0</td><td>0</td><td>0</td><td>0</td><td>0</td><td>0</td><td>0</td><td>0</td><td>0</td><td>0</td><td>0</td><td>0</td><td>0</td><td>0</td><td>0</td><td>0</td><td>0</td><td>0</td><td>0</td><td>0</td><td>0</td><td>0</td><td>0</td><td>0</td><td>0</td><td>0</td><td>0</td><td>0</td><td>0</td></tr><tr><td>&quot;LE PERE DEFRAN…</td><td>0</td><td>0</td><td>0</td><td>0</td><td>0</td><td>0</td><td>0</td><td>0</td><td>0</td><td>0</td><td>0</td><td>0</td><td>0</td><td>0</td><td>0</td><td>0</td><td>0</td><td>0</td><td>0</td><td>0</td><td>0</td><td>0</td><td>0</td><td>0</td><td>0</td><td>0</td><td>0</td><td>0</td><td>0</td><td>0</td><td>0</td><td>0</td><td>0</td><td>0</td><td>0</td><td>0</td><td>&hellip;</td><td>0</td><td>0</td><td>0</td><td>0</td><td>0</td><td>0</td><td>0</td><td>0</td><td>0</td><td>0</td><td>0</td><td>0</td><td>0</td><td>0</td><td>0</td><td>0</td><td>0</td><td>0</td><td>0</td><td>0</td><td>0</td><td>0</td><td>0</td><td>0</td><td>0</td><td>0</td><td>0</td><td>0</td><td>0</td><td>0</td><td>0</td><td>0</td><td>0</td><td>0</td><td>0</td><td>0</td><td>0</td></tr><tr><td>&quot;CLEAN HUGS&quot;</td><td>0</td><td>0</td><td>0</td><td>0</td><td>0</td><td>0</td><td>0</td><td>0</td><td>0</td><td>0</td><td>0</td><td>1</td><td>0</td><td>0</td><td>0</td><td>0</td><td>0</td><td>0</td><td>0</td><td>0</td><td>0</td><td>0</td><td>0</td><td>0</td><td>0</td><td>0</td><td>0</td><td>0</td><td>0</td><td>0</td><td>0</td><td>0</td><td>0</td><td>0</td><td>0</td><td>0</td><td>&hellip;</td><td>0</td><td>0</td><td>0</td><td>0</td><td>0</td><td>0</td><td>0</td><td>0</td><td>0</td><td>0</td><td>0</td><td>0</td><td>0</td><td>0</td><td>0</td><td>0</td><td>0</td><td>0</td><td>0</td><td>0</td><td>0</td><td>0</td><td>0</td><td>0</td><td>0</td><td>0</td><td>0</td><td>0</td><td>0</td><td>0</td><td>0</td><td>0</td><td>0</td><td>0</td><td>0</td><td>0</td><td>0</td></tr><tr><td>&quot;BABYMOOV&quot;</td><td>0</td><td>0</td><td>0</td><td>0</td><td>0</td><td>0</td><td>0</td><td>0</td><td>0</td><td>0</td><td>0</td><td>0</td><td>0</td><td>0</td><td>0</td><td>0</td><td>0</td><td>0</td><td>0</td><td>0</td><td>0</td><td>0</td><td>0</td><td>0</td><td>0</td><td>0</td><td>0</td><td>0</td><td>0</td><td>0</td><td>0</td><td>0</td><td>0</td><td>0</td><td>0</td><td>0</td><td>&hellip;</td><td>0</td><td>0</td><td>0</td><td>0</td><td>0</td><td>0</td><td>0</td><td>0</td><td>0</td><td>0</td><td>0</td><td>0</td><td>0</td><td>0</td><td>0</td><td>0</td><td>0</td><td>0</td><td>0</td><td>0</td><td>0</td><td>0</td><td>0</td><td>0</td><td>0</td><td>0</td><td>0</td><td>0</td><td>0</td><td>0</td><td>0</td><td>0</td><td>0</td><td>0</td><td>0</td><td>0</td><td>0</td></tr></tbody></table></div>"
      ],
      "text/plain": [
       "shape: (5, 1_126)\n",
       "┌────────────┬────────────┬────────────┬────────────┬───┬────────────┬────────────┬────────────┬────────────┐\n",
       "│ brand_desc ┆ level0_0_A ┆ level0_0_B ┆ level0_0_B ┆ … ┆ level2_1_Y ┆ level2_1_Y ┆ level2_1_Y ┆ level2_1_Y │\n",
       "│ _slug      ┆ NIMAUX     ┆ EAUTY WEEK ┆ EBE        ┆   ┆ AOURT ET   ┆ AOURTS A   ┆ AOURTS AUX ┆ AOURTS     │\n",
       "│ ---        ┆ ---        ┆ ---        ┆ ---        ┆   ┆ FROMAGE    ┆ BOIRE ET   ┆ FRUITS ET  ┆ BREBIS ET  │\n",
       "│ str        ┆ u8         ┆ u8         ┆ u8         ┆   ┆ BLANC…     ┆ ENFA…      ┆ A…         ┆ CHEVR…     │\n",
       "│            ┆            ┆            ┆            ┆   ┆ ---        ┆ ---        ┆ ---        ┆ ---        │\n",
       "│            ┆            ┆            ┆            ┆   ┆ u8         ┆ u8         ┆ u8         ┆ u8         │\n",
       "╞════════════╪════════════╪════════════╪════════════╪═══╪════════════╪════════════╪════════════╪════════════╡\n",
       "│ 24TERRE    ┆ 0          ┆ 0          ┆ 0          ┆ … ┆ 0          ┆ 0          ┆ 0          ┆ 0          │\n",
       "│ CAFE       ┆            ┆            ┆            ┆   ┆            ┆            ┆            ┆            │\n",
       "│ WONDERBAG  ┆ 0          ┆ 0          ┆ 0          ┆ … ┆ 0          ┆ 0          ┆ 0          ┆ 0          │\n",
       "│ LE PERE    ┆ 0          ┆ 0          ┆ 0          ┆ … ┆ 0          ┆ 0          ┆ 0          ┆ 0          │\n",
       "│ DEFRANCE   ┆            ┆            ┆            ┆   ┆            ┆            ┆            ┆            │\n",
       "│ CLEAN HUGS ┆ 0          ┆ 0          ┆ 0          ┆ … ┆ 0          ┆ 0          ┆ 0          ┆ 0          │\n",
       "│ BABYMOOV   ┆ 0          ┆ 0          ┆ 0          ┆ … ┆ 0          ┆ 0          ┆ 0          ┆ 0          │\n",
       "└────────────┴────────────┴────────────┴────────────┴───┴────────────┴────────────┴────────────┴────────────┘"
      ]
     },
     "execution_count": 6,
     "metadata": {},
     "output_type": "execute_result"
    }
   ],
   "source": [
    "dataset_init_dummies = (\n",
    "    dataset_init\n",
    "    .select([\"brand_desc_slug\"]\n",
    "            + [pl.col(c) for c in dataset_init.columns if c.startswith('level') and not c.endswith('2')] ## drop Franprix classification\n",
    "            )\n",
    "    .unique()\n",
    "    .to_dummies([c for c in dataset_init.columns if c.startswith('level') and not c.endswith('2')])\n",
    ")\n",
    "\n",
    "dataset_init_dummies = (\n",
    "    dataset_init_dummies\n",
    "    .drop([col for col in dataset_init_dummies.columns if col.endswith('null')])\n",
    "    .groupby(\"brand_desc_slug\")\n",
    "    .max()\n",
    "\n",
    ")\n",
    "\n",
    "print(dataset_init_dummies.shape)\n",
    "dataset_init_dummies.head()"
   ]
  },
  {
   "cell_type": "code",
   "execution_count": 7,
   "metadata": {},
   "outputs": [
    {
     "name": "stdout",
     "output_type": "stream",
     "text": [
      "6516\n"
     ]
    }
   ],
   "source": [
    "## create list of brands\n",
    "name_vector = (\n",
    "    dataset_init_dummies\n",
    "    .get_columns()[0].to_list()\n",
    ")\n",
    "print(len(name_vector))"
   ]
  },
  {
   "cell_type": "markdown",
   "metadata": {},
   "source": [
    "### PCA"
   ]
  },
  {
   "cell_type": "code",
   "execution_count": 8,
   "metadata": {},
   "outputs": [
    {
     "data": {
      "text/plain": [
       "294"
      ]
     },
     "execution_count": 8,
     "metadata": {},
     "output_type": "execute_result"
    }
   ],
   "source": [
    "pca = PCA(n_components=0.90)\n",
    "tf_idf_matrix_ngram_pca = pca.fit_transform(dataset_init_dummies.drop('brand_desc_slug'))\n",
    "pca.n_components_"
   ]
  },
  {
   "cell_type": "code",
   "execution_count": 9,
   "metadata": {},
   "outputs": [
    {
     "name": "stdout",
     "output_type": "stream",
     "text": [
      "1915704\n",
      "1915704\n"
     ]
    },
    {
     "data": {
      "text/plain": [
       "array([ 6.94347843e-01, -1.71360688e-01,  1.59446731e-01, ...,\n",
       "       -4.68069824e-04,  2.24634610e-04,  2.63698565e-04])"
      ]
     },
     "execution_count": 9,
     "metadata": {},
     "output_type": "execute_result"
    }
   ],
   "source": [
    "concat_matrix = csr_matrix(tf_idf_matrix_ngram_pca)\n",
    "print(len(concat_matrix.nonzero()[0]))\n",
    "print(len(concat_matrix.nonzero()[1]))\n",
    "concat_matrix.data"
   ]
  },
  {
   "attachments": {},
   "cell_type": "markdown",
   "metadata": {},
   "source": [
    "### Similarity"
   ]
  },
  {
   "cell_type": "code",
   "execution_count": 10,
   "metadata": {},
   "outputs": [
    {
     "name": "stdout",
     "output_type": "stream",
     "text": [
      "(array([   0,    0,    0, ..., 6515, 6515, 6515]), array([   0,    1,    2, ..., 6513, 6514, 6515]))\n",
      "42458256 42458256\n",
      "[ 1.         -0.15268757 -0.15268757 ...  0.05825587  1.\n",
      "  1.        ]\n"
     ]
    }
   ],
   "source": [
    "# Compute cosine similarity matrix\n",
    "cosine_similarity = cosine_similarity(concat_matrix)\n",
    "cosine_similarity_csr = csr_matrix(cosine_similarity) \n",
    "\n",
    "print(cosine_similarity_csr.nonzero())\n",
    "print(len(cosine_similarity_csr.nonzero()[0]), len(cosine_similarity_csr.nonzero()[1]))\n",
    "print(cosine_similarity_csr.data)"
   ]
  },
  {
   "cell_type": "code",
   "execution_count": 11,
   "metadata": {},
   "outputs": [
    {
     "name": "stdout",
     "output_type": "stream",
     "text": [
      "shape: (42_458_256, 3)\n",
      "┌─────────────────────────┬─────────────────────────┬────────────┐\n",
      "│ left_side               ┆ right_side              ┆ similarity │\n",
      "│ ---                     ┆ ---                     ┆ ---        │\n",
      "│ str                     ┆ str                     ┆ f64        │\n",
      "╞═════════════════════════╪═════════════════════════╪════════════╡\n",
      "│ DELACRE DELICHOC        ┆ DELACRE DELICHOC        ┆ 1.0        │\n",
      "│ FLUOCARIL PARAPHARMACIE ┆ FLUOCARIL PARAPHARMACIE ┆ 1.0        │\n",
      "│ PYREX                   ┆ PYREX                   ┆ 1.0        │\n",
      "│ BELZEBUTH               ┆ O SUN                   ┆ 1.0        │\n",
      "│ …                       ┆ …                       ┆ …          │\n",
      "│ REFLECTA                ┆ VICHY                   ┆ -0.353393  │\n",
      "│ VICHY                   ┆ REFLECTA                ┆ -0.353393  │\n",
      "│ LEISURE                 ┆ VICHY                   ┆ -0.353393  │\n",
      "│ VICHY                   ┆ LEISURE                 ┆ -0.353393  │\n",
      "└─────────────────────────┴─────────────────────────┴────────────┘\n",
      "(42458256, 3)\n"
     ]
    }
   ],
   "source": [
    "df_cossim = pairwise_similarity(cosine_similarity_csr, name_vector)\n",
    "df_cossim = (\n",
    "    df_cossim\n",
    "    .sort(by=['similarity'], descending = True)\n",
    " )\n",
    " \n",
    "print(df_cossim)\n",
    "print(df_cossim.shape)\n",
    "df_cossim.select(pl.col('left_side'), pl.col('right_side'), pl.col('similarity').alias('similarity_nomenclature')).write_csv('../temp_folder/Nomenclature_cossim.csv', separator=\";\")"
   ]
  }
 ],
 "metadata": {
  "kernelspec": {
   "display_name": "venv",
   "language": "python",
   "name": "python3"
  },
  "language_info": {
   "codemirror_mode": {
    "name": "ipython",
    "version": 3
   },
   "file_extension": ".py",
   "mimetype": "text/x-python",
   "name": "python",
   "nbconvert_exporter": "python",
   "pygments_lexer": "ipython3",
   "version": "3.11.4"
  },
  "orig_nbformat": 4
 },
 "nbformat": 4,
 "nbformat_minor": 2
}
