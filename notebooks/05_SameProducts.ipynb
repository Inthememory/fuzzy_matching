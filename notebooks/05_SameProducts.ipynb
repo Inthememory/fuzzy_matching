{
 "cells": [
  {
   "cell_type": "code",
   "execution_count": 1,
   "metadata": {},
   "outputs": [],
   "source": [
    "import sys\n",
    "sys.path.append(\"../\")"
   ]
  },
  {
   "cell_type": "code",
   "execution_count": 7,
   "metadata": {},
   "outputs": [],
   "source": [
    "import polars as pl\n",
    "import yaml\n",
    "from itertools import combinations\n",
    "\n",
    "from utils.load_data import *"
   ]
  },
  {
   "cell_type": "markdown",
   "metadata": {},
   "source": [
    "### Load data"
   ]
  },
  {
   "cell_type": "code",
   "execution_count": 3,
   "metadata": {},
   "outputs": [],
   "source": [
    "with open(\"../config.yml\", \"r\") as file:\n",
    "    config = yaml.safe_load(file)"
   ]
  },
  {
   "cell_type": "code",
   "execution_count": 6,
   "metadata": {},
   "outputs": [],
   "source": [
    "monoprix_gold = gold('../data/raw/', 'monoprix', config).collect()\n",
    "franprix_gold = gold('../data/raw/', 'franprix', config).collect()\n",
    "auchan_gold = gold('../data/raw/', 'auchan', config).collect()"
   ]
  },
  {
   "cell_type": "code",
   "execution_count": 8,
   "metadata": {},
   "outputs": [],
   "source": [
    "datasets = [monoprix_gold, franprix_gold, auchan_gold]\n",
    "pairs = list(combinations(datasets, 2))\n",
    "\n",
    "l=[]\n",
    "for pair in pairs:\n",
    "    l.append (\n",
    "        pl.concat(\n",
    "            [\n",
    "                pair[0].select(pl.col(\"product_id\"), pl.col(\"brand_desc_slug\").alias('brand_desc_left')),\n",
    "                pair[1].select(pl.col(\"product_id\"), pl.col(\"brand_desc_slug\").alias('brand_desc_right')) \n",
    "            ], \n",
    "            how=\"align\"\n",
    "            )\n",
    "            .filter(pl.col('brand_desc_left').is_not_null())\n",
    "            .filter(pl.col('brand_desc_right').is_not_null())\n",
    "            .filter(pl.col('brand_desc_left') != pl.col('brand_desc_right'))\n",
    "            .groupby('brand_desc_left', 'brand_desc_right')\n",
    "            .count()\n",
    "            .filter(pl.col('count')>1)\n",
    "            .select('brand_desc_left', 'brand_desc_right')\n",
    "        )"
   ]
  },
  {
   "cell_type": "code",
   "execution_count": 10,
   "metadata": {},
   "outputs": [],
   "source": [
    "dataset = (\n",
    "    pl.concat(\n",
    "        l, \n",
    "        how=\"vertical\"\n",
    "        )\n",
    ")\n",
    "\n",
    "\n",
    "# training_dataset_invert\n",
    "dataset_invert = (\n",
    "    dataset\n",
    "    .with_columns(pl.col('brand_desc_left').alias('tmp'))\n",
    "    .with_columns(pl.col('brand_desc_right').alias('brand_desc_left'))\n",
    "    .with_columns(pl.col('tmp').alias('brand_desc_right'))\n",
    "    .select(pl.col('brand_desc_left'), pl.col('brand_desc_right'))\n",
    ")\n",
    "\n",
    "result = (\n",
    "    pl.concat(\n",
    "        [\n",
    "            dataset, \n",
    "            dataset_invert\n",
    "        ], \n",
    "        how=\"vertical\"\n",
    "        )\n",
    "        .unique()        \n",
    "    .select(pl.col('brand_desc_left').alias('left_side'), pl.col('brand_desc_right').alias('right_side'))\n",
    ")\n",
    "result.shape\n",
    "\n",
    "result.write_csv('../temp_folder/similar_brands_base_on_products.csv', separator=\";\")"
   ]
  }
 ],
 "metadata": {
  "kernelspec": {
   "display_name": "venv",
   "language": "python",
   "name": "python3"
  },
  "language_info": {
   "codemirror_mode": {
    "name": "ipython",
    "version": 3
   },
   "file_extension": ".py",
   "mimetype": "text/x-python",
   "name": "python",
   "nbconvert_exporter": "python",
   "pygments_lexer": "ipython3",
   "version": "3.11.6"
  },
  "orig_nbformat": 4
 },
 "nbformat": 4,
 "nbformat_minor": 2
}
