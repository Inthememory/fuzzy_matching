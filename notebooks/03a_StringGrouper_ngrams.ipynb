{
 "cells": [
  {
   "cell_type": "code",
   "execution_count": 1,
   "metadata": {},
   "outputs": [],
   "source": [
    "import sys\n",
    "sys.path.append(\"../\")"
   ]
  },
  {
   "cell_type": "code",
   "execution_count": 2,
   "metadata": {},
   "outputs": [
    {
     "name": "stderr",
     "output_type": "stream",
     "text": [
      "c:\\Users\\audec\\Documents\\fuzzy_matching\\venv\\Lib\\site-packages\\fuzzywuzzy\\fuzz.py:11: UserWarning: Using slow pure-python SequenceMatcher. Install python-Levenshtein to remove this warning\n",
      "  warnings.warn('Using slow pure-python SequenceMatcher. Install python-Levenshtein to remove this warning')\n"
     ]
    }
   ],
   "source": [
    "import polars as pl\n",
    "import numpy as np\n",
    "import matplotlib.pyplot as plt\n",
    "import yaml\n",
    "\n",
    "from slugify import slugify\n",
    "\n",
    "from scipy.sparse import csr_matrix\n",
    "\n",
    "from sklearn.feature_extraction.text import TfidfVectorizer\n",
    "from sklearn.metrics.pairwise import cosine_similarity\n",
    "from sklearn.decomposition import PCA\n",
    "\n",
    "from utils.load_data import *\n",
    "\n",
    "from utils.pairwise_similarity import pairwise_similarity\n",
    "\n",
    "import warnings\n",
    "warnings.simplefilter(action='ignore', category=FutureWarning)\n"
   ]
  },
  {
   "attachments": {},
   "cell_type": "markdown",
   "metadata": {},
   "source": [
    "#### Load Data"
   ]
  },
  {
   "cell_type": "code",
   "execution_count": 3,
   "metadata": {},
   "outputs": [],
   "source": [
    "with open(\"../config.yml\", \"r\") as file:\n",
    "    config = yaml.safe_load(file)"
   ]
  },
  {
   "cell_type": "code",
   "execution_count": 4,
   "metadata": {},
   "outputs": [],
   "source": [
    "monoprix_gold = gold('../data/', 'monoprix', config).collect()\n",
    "franprix_gold = gold('../data/', 'franprix', config).collect()\n",
    "auchan_gold = gold('../data/', 'auchan', config).collect()\n",
    "\n",
    "datasets = [monoprix_gold, franprix_gold, auchan_gold]"
   ]
  },
  {
   "cell_type": "code",
   "execution_count": 5,
   "metadata": {},
   "outputs": [],
   "source": [
    "dataset_init = (\n",
    "    pl.concat(\n",
    "        [\n",
    "            dataset.select(pl.col(\"brand_desc_slug\"))\n",
    "            for dataset in datasets\n",
    "        ], \n",
    "        how=\"vertical\"\n",
    "        )\n",
    "    .unique()\n",
    "    .with_columns(\n",
    "        pl.col(\"brand_desc_slug\")\n",
    "        .apply(lambda x: slugify(x, separator = ''))\n",
    "        .alias(\"brand_desc_without_space\")\n",
    "        )\n",
    "    .select(\"brand_desc_slug\", 'brand_desc_without_space')\n",
    "    )"
   ]
  },
  {
   "cell_type": "code",
   "execution_count": 6,
   "metadata": {},
   "outputs": [
    {
     "name": "stdout",
     "output_type": "stream",
     "text": [
      "6516\n"
     ]
    }
   ],
   "source": [
    "## Create list of brands\n",
    "name_vector = (\n",
    "    dataset_init\n",
    "    .get_columns()[0].to_list()\n",
    ")\n",
    "print(len(name_vector))"
   ]
  },
  {
   "attachments": {},
   "cell_type": "markdown",
   "metadata": {},
   "source": [
    "#### TF-IDF, N-Grams"
   ]
  },
  {
   "cell_type": "code",
   "execution_count": 7,
   "metadata": {},
   "outputs": [
    {
     "name": "stdout",
     "output_type": "stream",
     "text": [
      "maredsous\n",
      "46862 ['00' '00e' '00et' ... 'zzurr' 'zzy' 'zzz']\n",
      "(6516, 46862)\n",
      "  (0, 9381)\t0.27716186930975595\n",
      "  (0, 44589)\t0.27716186930975595\n",
      "  (0, 20471)\t0.26979552770435017\n",
      "  (0, 27522)\t0.21666529209656993\n",
      "  (0, 3652)\t0.24691358070316294\n",
      "  (0, 9380)\t0.27716186930975595\n",
      "  (0, 44587)\t0.26979552770435017\n",
      "  (0, 20459)\t0.21537055079935052\n",
      "  (0, 27521)\t0.21666529209656993\n",
      "  (0, 39503)\t0.2129241227697118\n",
      "  (0, 3651)\t0.24376723236024045\n",
      "  (0, 9370)\t0.22572491108462925\n",
      "  (0, 44555)\t0.2085160283061943\n",
      "  (0, 20458)\t0.1778576515506478\n",
      "  (0, 27520)\t0.21537055079935052\n",
      "  (0, 43346)\t0.15818324229167147\n",
      "  (0, 39451)\t0.16775504975127303\n",
      "  (0, 3409)\t0.1298297753873842\n",
      "  (0, 9156)\t0.1293574973543044\n",
      "  (0, 44554)\t0.12789007037229821\n",
      "  (0, 20441)\t0.1572969696937516\n",
      "  (0, 27320)\t0.13291909232286322\n"
     ]
    },
    {
     "data": {
      "text/html": [
       "<div><style>\n",
       ".dataframe > thead > tr > th,\n",
       ".dataframe > tbody > tr > td {\n",
       "  text-align: right;\n",
       "}\n",
       "</style>\n",
       "<small>shape: (5, 46_862)</small><table border=\"1\" class=\"dataframe\"><thead><tr><th>00</th><th>00e</th><th>00et</th><th>00etb</th><th>00g</th><th>00go</th><th>00gor</th><th>00o</th><th>00or</th><th>00ori</th><th>00u</th><th>00ul</th><th>00ult</th><th>0c</th><th>0cl</th><th>0d</th><th>0de</th><th>0deg</th><th>0deg7</th><th>0e</th><th>0ep</th><th>0epi</th><th>0epic</th><th>0et</th><th>0etb</th><th>0etbi</th><th>0f</th><th>0fe</th><th>0fer</th><th>0ferm</th><th>0g</th><th>0go</th><th>0gor</th><th>0gori</th><th>0gr</th><th>0gra</th><th>0grai</th><th>&hellip;</th><th>zwil</th><th>zwill</th><th>zy</th><th>zyc</th><th>zyca</th><th>zycaj</th><th>zyl</th><th>zyli</th><th>zylis</th><th>zyt</th><th>zyti</th><th>zytig</th><th>zz</th><th>zza</th><th>zzad</th><th>zzade</th><th>zzal</th><th>zzale</th><th>zzap</th><th>zzape</th><th>zzas</th><th>zze</th><th>zzea</th><th>zzeas</th><th>zzet</th><th>zzett</th><th>zzi</th><th>zzio</th><th>zzix</th><th>zzo</th><th>zzol</th><th>zzoli</th><th>zzu</th><th>zzur</th><th>zzurr</th><th>zzy</th><th>zzz</th></tr><tr><td>f64</td><td>f64</td><td>f64</td><td>f64</td><td>f64</td><td>f64</td><td>f64</td><td>f64</td><td>f64</td><td>f64</td><td>f64</td><td>f64</td><td>f64</td><td>f64</td><td>f64</td><td>f64</td><td>f64</td><td>f64</td><td>f64</td><td>f64</td><td>f64</td><td>f64</td><td>f64</td><td>f64</td><td>f64</td><td>f64</td><td>f64</td><td>f64</td><td>f64</td><td>f64</td><td>f64</td><td>f64</td><td>f64</td><td>f64</td><td>f64</td><td>f64</td><td>f64</td><td>&hellip;</td><td>f64</td><td>f64</td><td>f64</td><td>f64</td><td>f64</td><td>f64</td><td>f64</td><td>f64</td><td>f64</td><td>f64</td><td>f64</td><td>f64</td><td>f64</td><td>f64</td><td>f64</td><td>f64</td><td>f64</td><td>f64</td><td>f64</td><td>f64</td><td>f64</td><td>f64</td><td>f64</td><td>f64</td><td>f64</td><td>f64</td><td>f64</td><td>f64</td><td>f64</td><td>f64</td><td>f64</td><td>f64</td><td>f64</td><td>f64</td><td>f64</td><td>f64</td><td>f64</td></tr></thead><tbody><tr><td>0.0</td><td>0.0</td><td>0.0</td><td>0.0</td><td>0.0</td><td>0.0</td><td>0.0</td><td>0.0</td><td>0.0</td><td>0.0</td><td>0.0</td><td>0.0</td><td>0.0</td><td>0.0</td><td>0.0</td><td>0.0</td><td>0.0</td><td>0.0</td><td>0.0</td><td>0.0</td><td>0.0</td><td>0.0</td><td>0.0</td><td>0.0</td><td>0.0</td><td>0.0</td><td>0.0</td><td>0.0</td><td>0.0</td><td>0.0</td><td>0.0</td><td>0.0</td><td>0.0</td><td>0.0</td><td>0.0</td><td>0.0</td><td>0.0</td><td>&hellip;</td><td>0.0</td><td>0.0</td><td>0.0</td><td>0.0</td><td>0.0</td><td>0.0</td><td>0.0</td><td>0.0</td><td>0.0</td><td>0.0</td><td>0.0</td><td>0.0</td><td>0.0</td><td>0.0</td><td>0.0</td><td>0.0</td><td>0.0</td><td>0.0</td><td>0.0</td><td>0.0</td><td>0.0</td><td>0.0</td><td>0.0</td><td>0.0</td><td>0.0</td><td>0.0</td><td>0.0</td><td>0.0</td><td>0.0</td><td>0.0</td><td>0.0</td><td>0.0</td><td>0.0</td><td>0.0</td><td>0.0</td><td>0.0</td><td>0.0</td></tr><tr><td>0.0</td><td>0.0</td><td>0.0</td><td>0.0</td><td>0.0</td><td>0.0</td><td>0.0</td><td>0.0</td><td>0.0</td><td>0.0</td><td>0.0</td><td>0.0</td><td>0.0</td><td>0.0</td><td>0.0</td><td>0.0</td><td>0.0</td><td>0.0</td><td>0.0</td><td>0.0</td><td>0.0</td><td>0.0</td><td>0.0</td><td>0.0</td><td>0.0</td><td>0.0</td><td>0.0</td><td>0.0</td><td>0.0</td><td>0.0</td><td>0.0</td><td>0.0</td><td>0.0</td><td>0.0</td><td>0.0</td><td>0.0</td><td>0.0</td><td>&hellip;</td><td>0.0</td><td>0.0</td><td>0.0</td><td>0.0</td><td>0.0</td><td>0.0</td><td>0.0</td><td>0.0</td><td>0.0</td><td>0.0</td><td>0.0</td><td>0.0</td><td>0.0</td><td>0.0</td><td>0.0</td><td>0.0</td><td>0.0</td><td>0.0</td><td>0.0</td><td>0.0</td><td>0.0</td><td>0.0</td><td>0.0</td><td>0.0</td><td>0.0</td><td>0.0</td><td>0.0</td><td>0.0</td><td>0.0</td><td>0.0</td><td>0.0</td><td>0.0</td><td>0.0</td><td>0.0</td><td>0.0</td><td>0.0</td><td>0.0</td></tr><tr><td>0.0</td><td>0.0</td><td>0.0</td><td>0.0</td><td>0.0</td><td>0.0</td><td>0.0</td><td>0.0</td><td>0.0</td><td>0.0</td><td>0.0</td><td>0.0</td><td>0.0</td><td>0.0</td><td>0.0</td><td>0.0</td><td>0.0</td><td>0.0</td><td>0.0</td><td>0.0</td><td>0.0</td><td>0.0</td><td>0.0</td><td>0.0</td><td>0.0</td><td>0.0</td><td>0.0</td><td>0.0</td><td>0.0</td><td>0.0</td><td>0.0</td><td>0.0</td><td>0.0</td><td>0.0</td><td>0.0</td><td>0.0</td><td>0.0</td><td>&hellip;</td><td>0.0</td><td>0.0</td><td>0.0</td><td>0.0</td><td>0.0</td><td>0.0</td><td>0.0</td><td>0.0</td><td>0.0</td><td>0.0</td><td>0.0</td><td>0.0</td><td>0.0</td><td>0.0</td><td>0.0</td><td>0.0</td><td>0.0</td><td>0.0</td><td>0.0</td><td>0.0</td><td>0.0</td><td>0.0</td><td>0.0</td><td>0.0</td><td>0.0</td><td>0.0</td><td>0.0</td><td>0.0</td><td>0.0</td><td>0.0</td><td>0.0</td><td>0.0</td><td>0.0</td><td>0.0</td><td>0.0</td><td>0.0</td><td>0.0</td></tr><tr><td>0.0</td><td>0.0</td><td>0.0</td><td>0.0</td><td>0.0</td><td>0.0</td><td>0.0</td><td>0.0</td><td>0.0</td><td>0.0</td><td>0.0</td><td>0.0</td><td>0.0</td><td>0.0</td><td>0.0</td><td>0.0</td><td>0.0</td><td>0.0</td><td>0.0</td><td>0.0</td><td>0.0</td><td>0.0</td><td>0.0</td><td>0.0</td><td>0.0</td><td>0.0</td><td>0.0</td><td>0.0</td><td>0.0</td><td>0.0</td><td>0.0</td><td>0.0</td><td>0.0</td><td>0.0</td><td>0.0</td><td>0.0</td><td>0.0</td><td>&hellip;</td><td>0.0</td><td>0.0</td><td>0.0</td><td>0.0</td><td>0.0</td><td>0.0</td><td>0.0</td><td>0.0</td><td>0.0</td><td>0.0</td><td>0.0</td><td>0.0</td><td>0.0</td><td>0.0</td><td>0.0</td><td>0.0</td><td>0.0</td><td>0.0</td><td>0.0</td><td>0.0</td><td>0.0</td><td>0.0</td><td>0.0</td><td>0.0</td><td>0.0</td><td>0.0</td><td>0.0</td><td>0.0</td><td>0.0</td><td>0.0</td><td>0.0</td><td>0.0</td><td>0.0</td><td>0.0</td><td>0.0</td><td>0.0</td><td>0.0</td></tr><tr><td>0.0</td><td>0.0</td><td>0.0</td><td>0.0</td><td>0.0</td><td>0.0</td><td>0.0</td><td>0.0</td><td>0.0</td><td>0.0</td><td>0.0</td><td>0.0</td><td>0.0</td><td>0.0</td><td>0.0</td><td>0.0</td><td>0.0</td><td>0.0</td><td>0.0</td><td>0.0</td><td>0.0</td><td>0.0</td><td>0.0</td><td>0.0</td><td>0.0</td><td>0.0</td><td>0.0</td><td>0.0</td><td>0.0</td><td>0.0</td><td>0.0</td><td>0.0</td><td>0.0</td><td>0.0</td><td>0.0</td><td>0.0</td><td>0.0</td><td>&hellip;</td><td>0.0</td><td>0.0</td><td>0.0</td><td>0.0</td><td>0.0</td><td>0.0</td><td>0.0</td><td>0.0</td><td>0.0</td><td>0.0</td><td>0.0</td><td>0.0</td><td>0.0</td><td>0.0</td><td>0.0</td><td>0.0</td><td>0.0</td><td>0.0</td><td>0.0</td><td>0.0</td><td>0.0</td><td>0.0</td><td>0.0</td><td>0.0</td><td>0.0</td><td>0.0</td><td>0.0</td><td>0.0</td><td>0.0</td><td>0.0</td><td>0.0</td><td>0.0</td><td>0.0</td><td>0.0</td><td>0.0</td><td>0.0</td><td>0.0</td></tr></tbody></table></div>"
      ],
      "text/plain": [
       "shape: (5, 46_862)\n",
       "┌─────┬─────┬──────┬───────┬───┬──────┬───────┬─────┬─────┐\n",
       "│ 00  ┆ 00e ┆ 00et ┆ 00etb ┆ … ┆ zzur ┆ zzurr ┆ zzy ┆ zzz │\n",
       "│ --- ┆ --- ┆ ---  ┆ ---   ┆   ┆ ---  ┆ ---   ┆ --- ┆ --- │\n",
       "│ f64 ┆ f64 ┆ f64  ┆ f64   ┆   ┆ f64  ┆ f64   ┆ f64 ┆ f64 │\n",
       "╞═════╪═════╪══════╪═══════╪═══╪══════╪═══════╪═════╪═════╡\n",
       "│ 0.0 ┆ 0.0 ┆ 0.0  ┆ 0.0   ┆ … ┆ 0.0  ┆ 0.0   ┆ 0.0 ┆ 0.0 │\n",
       "│ 0.0 ┆ 0.0 ┆ 0.0  ┆ 0.0   ┆ … ┆ 0.0  ┆ 0.0   ┆ 0.0 ┆ 0.0 │\n",
       "│ 0.0 ┆ 0.0 ┆ 0.0  ┆ 0.0   ┆ … ┆ 0.0  ┆ 0.0   ┆ 0.0 ┆ 0.0 │\n",
       "│ 0.0 ┆ 0.0 ┆ 0.0  ┆ 0.0   ┆ … ┆ 0.0  ┆ 0.0   ┆ 0.0 ┆ 0.0 │\n",
       "│ 0.0 ┆ 0.0 ┆ 0.0  ┆ 0.0   ┆ … ┆ 0.0  ┆ 0.0   ┆ 0.0 ┆ 0.0 │\n",
       "└─────┴─────┴──────┴───────┴───┴──────┴───────┴─────┴─────┘"
      ]
     },
     "execution_count": 7,
     "metadata": {},
     "output_type": "execute_result"
    }
   ],
   "source": [
    "# Grab the column to group (values must be Unicode) Unique ? \n",
    "dataset = dataset_init['brand_desc_without_space']\n",
    "\n",
    "## generate the matrix of TF-IDF values for each item - Ngram\n",
    "vectorizer_ngram = TfidfVectorizer(analyzer=\"char\", ngram_range=(2, 5))\n",
    "tf_idf_matrix_ngram = vectorizer_ngram.fit_transform(dataset)\n",
    "\n",
    "tfidf_tokens_ngram = vectorizer_ngram.get_feature_names_out()\n",
    "\n",
    "df_tfidfvect_ngram = pl.DataFrame(data=tf_idf_matrix_ngram.toarray(), schema=tfidf_tokens_ngram.tolist())\n",
    "\n",
    "print(dataset[0])\n",
    "print(len(tfidf_tokens_ngram), tfidf_tokens_ngram)\n",
    "print(tf_idf_matrix_ngram.shape)\n",
    "print(tf_idf_matrix_ngram[1])\n",
    "\n",
    "df_tfidfvect_ngram.head()"
   ]
  },
  {
   "attachments": {},
   "cell_type": "markdown",
   "metadata": {},
   "source": [
    "#### Dimensionality reduction "
   ]
  },
  {
   "cell_type": "code",
   "execution_count": 8,
   "metadata": {},
   "outputs": [
    {
     "data": {
      "text/plain": [
       "4069"
      ]
     },
     "execution_count": 8,
     "metadata": {},
     "output_type": "execute_result"
    }
   ],
   "source": [
    "pca = PCA(n_components=0.90)\n",
    "tf_idf_matrix_ngram_pca = pca.fit_transform(df_tfidfvect_ngram)\n",
    "pca.n_components_\n",
    "# (f\"Total variance explained: {np.sum(pca.explained_variance_ratio_):.2f}\")"
   ]
  },
  {
   "cell_type": "code",
   "execution_count": 9,
   "metadata": {},
   "outputs": [
    {
     "name": "stdout",
     "output_type": "stream",
     "text": [
      "26513604\n",
      "26513604\n"
     ]
    },
    {
     "data": {
      "text/plain": [
       "array([-0.01287073,  0.04608799,  0.03234584, ..., -0.00664363,\n",
       "        0.00855535,  0.01928867])"
      ]
     },
     "execution_count": 9,
     "metadata": {},
     "output_type": "execute_result"
    }
   ],
   "source": [
    "concat_matrix = csr_matrix(tf_idf_matrix_ngram_pca)\n",
    "print(len(concat_matrix.nonzero()[0]))\n",
    "print(len(concat_matrix.nonzero()[1]))\n",
    "concat_matrix.data"
   ]
  },
  {
   "attachments": {},
   "cell_type": "markdown",
   "metadata": {},
   "source": [
    "#### Similarity"
   ]
  },
  {
   "cell_type": "code",
   "execution_count": 10,
   "metadata": {},
   "outputs": [
    {
     "name": "stdout",
     "output_type": "stream",
     "text": [
      "(array([   0,    0,    0, ..., 6515, 6515, 6515]), array([   0,    1,    2, ..., 6513, 6514, 6515]))\n",
      "42458256\n",
      "42458256\n",
      "[ 1.         -0.00614655 -0.00689111 ...  0.00188472 -0.00571867\n",
      "  1.        ]\n"
     ]
    }
   ],
   "source": [
    "# Compute cosine similarity matrix\n",
    "cosine_similarity = cosine_similarity(concat_matrix)\n",
    "cosine_similarity_csr = csr_matrix(cosine_similarity) \n",
    "\n",
    "print(cosine_similarity_csr.nonzero())\n",
    "print(len(cosine_similarity_csr.nonzero()[0]))\n",
    "print(len(cosine_similarity_csr.nonzero()[1]))\n",
    "print(cosine_similarity_csr.data)"
   ]
  },
  {
   "cell_type": "code",
   "execution_count": 11,
   "metadata": {},
   "outputs": [
    {
     "name": "stdout",
     "output_type": "stream",
     "text": [
      "shape: (42_458_256, 3)\n",
      "┌─────────────────┬─────────────────┬────────────┐\n",
      "│ left_side       ┆ right_side      ┆ similarity │\n",
      "│ ---             ┆ ---             ┆ ---        │\n",
      "│ str             ┆ str             ┆ f64        │\n",
      "╞═════════════════╪═════════════════╪════════════╡\n",
      "│ KORONA          ┆ KORONA          ┆ 1.0        │\n",
      "│ DEMAK UP COCOON ┆ DEMAK UP COCOON ┆ 1.0        │\n",
      "│ VOILA           ┆ VOILA           ┆ 1.0        │\n",
      "│ NATUR ATTITUD   ┆ NATUR ATTITUD   ┆ 1.0        │\n",
      "│ …               ┆ …               ┆ …          │\n",
      "│ MYWAY           ┆ MILKY KISS      ┆ -0.092475  │\n",
      "│ MILKY KISS      ┆ MYWAY           ┆ -0.092475  │\n",
      "│ FABULON         ┆ STAR WARS       ┆ -0.117085  │\n",
      "│ STAR WARS       ┆ FABULON         ┆ -0.117085  │\n",
      "└─────────────────┴─────────────────┴────────────┘\n",
      "(42458256, 3)\n"
     ]
    }
   ],
   "source": [
    "df_cossim = pairwise_similarity(cosine_similarity_csr, name_vector)\n",
    "df_cossim = (\n",
    "    df_cossim\n",
    "    .sort(by=['similarity'], descending = True)\n",
    " )\n",
    " \n",
    "print(df_cossim)\n",
    "print(df_cossim.shape)\n",
    "df_cossim.select(pl.col('left_side'), pl.col('right_side'), pl.col('similarity').alias('similarity_sg')).write_csv('../temp_folder/SG_cossim.csv', separator=\";\")"
   ]
  }
 ],
 "metadata": {
  "kernelspec": {
   "display_name": "venv",
   "language": "python",
   "name": "python3"
  },
  "language_info": {
   "codemirror_mode": {
    "name": "ipython",
    "version": 3
   },
   "file_extension": ".py",
   "mimetype": "text/x-python",
   "name": "python",
   "nbconvert_exporter": "python",
   "pygments_lexer": "ipython3",
   "version": "3.11.6"
  },
  "orig_nbformat": 4
 },
 "nbformat": 4,
 "nbformat_minor": 2
}
