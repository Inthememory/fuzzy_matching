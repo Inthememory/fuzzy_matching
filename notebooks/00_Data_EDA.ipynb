{
 "cells": [
  {
   "cell_type": "code",
   "execution_count": 1,
   "metadata": {},
   "outputs": [],
   "source": [
    "import sys\n",
    "sys.path.append(\"../\")"
   ]
  },
  {
   "cell_type": "code",
   "execution_count": 2,
   "metadata": {},
   "outputs": [
    {
     "name": "stderr",
     "output_type": "stream",
     "text": [
      "c:\\Users\\audec\\Documents\\fuzzy_matching\\venv\\Lib\\site-packages\\fuzzywuzzy\\fuzz.py:11: UserWarning: Using slow pure-python SequenceMatcher. Install python-Levenshtein to remove this warning\n",
      "  warnings.warn('Using slow pure-python SequenceMatcher. Install python-Levenshtein to remove this warning')\n"
     ]
    }
   ],
   "source": [
    "import polars as pl\n",
    "import yaml\n",
    "\n",
    "from utils.load_data import *"
   ]
  },
  {
   "cell_type": "markdown",
   "metadata": {},
   "source": [
    "### Load Data"
   ]
  },
  {
   "cell_type": "code",
   "execution_count": 3,
   "metadata": {},
   "outputs": [],
   "source": [
    "with open(\"../config.yml\", \"r\") as file:\n",
    "    config = yaml.safe_load(file)"
   ]
  },
  {
   "cell_type": "markdown",
   "metadata": {},
   "source": [
    "Monoprix"
   ]
  },
  {
   "cell_type": "code",
   "execution_count": 4,
   "metadata": {},
   "outputs": [
    {
     "data": {
      "text/html": [
       "<div><style>\n",
       ".dataframe > thead > tr > th,\n",
       ".dataframe > tbody > tr > td {\n",
       "  text-align: right;\n",
       "}\n",
       "</style>\n",
       "<small>shape: (5, 7)</small><table border=\"1\" class=\"dataframe\"><thead><tr><th>product_id</th><th>brand_desc</th><th>level0</th><th>level1</th><th>level2</th><th>level3</th><th>level4</th></tr><tr><td>str</td><td>str</td><td>str</td><td>str</td><td>str</td><td>str</td><td>str</td></tr></thead><tbody><tr><td>&quot;3770002327593&quot;</td><td>&quot;GOOD GOÛT&quot;</td><td>&quot;Bio&quot;</td><td>&quot;Bébé bio&quot;</td><td>&quot;Dessert fruit …</td><td>&quot;dessert lacté …</td><td>null</td></tr><tr><td>&quot;3033491325694&quot;</td><td>&quot;ACTIVIA&quot;</td><td>&quot;Crèmerie&quot;</td><td>&quot;Yaourt&quot;</td><td>&quot;Yaourt aromati…</td><td>null</td><td>null</td></tr><tr><td>&quot;5010724529836&quot;</td><td>&quot;BATISTE&quot;</td><td>&quot;Hygiène Beauté…</td><td>&quot;Cheveux&quot;</td><td>&quot;Shampoing&quot;</td><td>&quot;Shampooing sec…</td><td>null</td></tr><tr><td>&quot;3033710047765&quot;</td><td>&quot;NESCAFÉ&quot;</td><td>&quot;Boisson, Cave&quot;</td><td>&quot;Café, Thé, Boi…</td><td>&quot;Café&quot;</td><td>&quot;Soluble, Chico…</td><td>null</td></tr><tr><td>&quot;3337875632652&quot;</td><td>&quot;LA ROCHE-POSAY…</td><td>&quot;Parapharmacie&quot;</td><td>&quot;Nos marques Pa…</td><td>&quot;La Roche-Posay…</td><td>&quot;Visage&quot;</td><td>null</td></tr></tbody></table></div>"
      ],
      "text/plain": [
       "shape: (5, 7)\n",
       "┌──────────────┬──────────────┬──────────────┬──────────────┬──────────────┬──────────────┬────────┐\n",
       "│ product_id   ┆ brand_desc   ┆ level0       ┆ level1       ┆ level2       ┆ level3       ┆ level4 │\n",
       "│ ---          ┆ ---          ┆ ---          ┆ ---          ┆ ---          ┆ ---          ┆ ---    │\n",
       "│ str          ┆ str          ┆ str          ┆ str          ┆ str          ┆ str          ┆ str    │\n",
       "╞══════════════╪══════════════╪══════════════╪══════════════╪══════════════╪══════════════╪════════╡\n",
       "│ 377000232759 ┆ GOOD GOÛT    ┆ Bio          ┆ Bébé bio     ┆ Dessert      ┆ dessert      ┆ null   │\n",
       "│ 3            ┆              ┆              ┆              ┆ fruit et     ┆ lacté bio    ┆        │\n",
       "│              ┆              ┆              ┆              ┆ lacté bio    ┆              ┆        │\n",
       "│ 303349132569 ┆ ACTIVIA      ┆ Crèmerie     ┆ Yaourt       ┆ Yaourt       ┆ null         ┆ null   │\n",
       "│ 4            ┆              ┆              ┆              ┆ aromatisé,   ┆              ┆        │\n",
       "│              ┆              ┆              ┆              ┆ aux fruits   ┆              ┆        │\n",
       "│ 501072452983 ┆ BATISTE      ┆ Hygiène      ┆ Cheveux      ┆ Shampoing    ┆ Shampooing   ┆ null   │\n",
       "│ 6            ┆              ┆ Beauté       ┆              ┆              ┆ sec          ┆        │\n",
       "│ 303371004776 ┆ NESCAFÉ      ┆ Boisson,     ┆ Café, Thé,   ┆ Café         ┆ Soluble,     ┆ null   │\n",
       "│ 5            ┆              ┆ Cave         ┆ Boisson      ┆              ┆ Chicorée     ┆        │\n",
       "│              ┆              ┆              ┆ chaude       ┆              ┆              ┆        │\n",
       "│ 333787563265 ┆ LA           ┆ Parapharmaci ┆ Nos marques  ┆ La           ┆ Visage       ┆ null   │\n",
       "│ 2            ┆ ROCHE-POSAY  ┆ e            ┆ Parapharmaci ┆ Roche-Posay  ┆              ┆        │\n",
       "│              ┆ - PARAPHARMA ┆              ┆ e            ┆              ┆              ┆        │\n",
       "│              ┆ CIE          ┆              ┆              ┆              ┆              ┆        │\n",
       "└──────────────┴──────────────┴──────────────┴──────────────┴──────────────┴──────────────┴────────┘"
      ]
     },
     "execution_count": 4,
     "metadata": {},
     "output_type": "execute_result"
    }
   ],
   "source": [
    "monoprix = (\n",
    "    bronze('../data/', 'monoprix', config).collect()\n",
    ")\n",
    "monoprix.head()"
   ]
  },
  {
   "cell_type": "code",
   "execution_count": 5,
   "metadata": {},
   "outputs": [
    {
     "name": "stdout",
     "output_type": "stream",
     "text": [
      "(15883, 7)\n",
      "(15880, 9)\n",
      "(13415, 9)\n"
     ]
    }
   ],
   "source": [
    "print(bronze('../data/', 'monoprix', config).collect().shape)\n",
    "print(silver('../data/', 'monoprix', config).collect().shape)\n",
    "print(gold('../data/', 'monoprix', config).collect().shape)"
   ]
  },
  {
   "cell_type": "code",
   "execution_count": 6,
   "metadata": {},
   "outputs": [
    {
     "name": "stdout",
     "output_type": "stream",
     "text": [
      "shape: (0, 7)\n",
      "┌────────────┬────────────┬────────┬────────┬────────┬────────┬────────┐\n",
      "│ product_id ┆ brand_desc ┆ level0 ┆ level1 ┆ level2 ┆ level3 ┆ level4 │\n",
      "│ ---        ┆ ---        ┆ ---    ┆ ---    ┆ ---    ┆ ---    ┆ ---    │\n",
      "│ str        ┆ str        ┆ str    ┆ str    ┆ str    ┆ str    ┆ str    │\n",
      "╞════════════╪════════════╪════════╪════════╪════════╪════════╪════════╡\n",
      "└────────────┴────────────┴────────┴────────┴────────┴────────┴────────┘\n",
      "shape: (231, 8)\n",
      "┌────────────┬─────────────┬─────────────┬─────────────┬────────────┬────────┬────────┬────────────┐\n",
      "│ product_id ┆ brand_desc  ┆ level0      ┆ level1      ┆ level2     ┆ level3 ┆ level4 ┆ product_id │\n",
      "│ ---        ┆ ---         ┆ ---         ┆ ---         ┆ ---        ┆ ---    ┆ ---    ┆ _length    │\n",
      "│ str        ┆ str         ┆ str         ┆ str         ┆ str        ┆ str    ┆ str    ┆ ---        │\n",
      "│            ┆             ┆             ┆             ┆            ┆        ┆        ┆ u32        │\n",
      "╞════════════╪═════════════╪═════════════╪═════════════╪════════════╪════════╪════════╪════════════╡\n",
      "│ 59032823   ┆ NUTELLA     ┆ Epicerie    ┆ Confiture,  ┆ Pâte à     ┆ null   ┆ null   ┆ 8          │\n",
      "│            ┆             ┆ Sucrée      ┆ Pâte à      ┆ tartiner   ┆        ┆        ┆            │\n",
      "│            ┆             ┆             ┆ tartiner,   ┆            ┆        ┆        ┆            │\n",
      "│            ┆             ┆             ┆ Miel        ┆            ┆        ┆        ┆            │\n",
      "│ 80551072   ┆ CITTERIO    ┆ Nos         ┆ Les inspira ┆ Jambons    ┆ null   ┆ null   ┆ 8          │\n",
      "│            ┆             ┆ Sélections  ┆ tions       ┆ Italiens   ┆        ┆        ┆            │\n",
      "│ 30095908   ┆ ESSIE       ┆ Shop In     ┆ Sélection   ┆ null       ┆ null   ┆ null   ┆ 8          │\n",
      "│            ┆             ┆ Shop        ┆ Essie       ┆            ┆        ┆        ┆            │\n",
      "│            ┆ HAXAIRE     ┆ Crèmerie    ┆ Fromage     ┆ Fromage    ┆ null   ┆ null   ┆ 0          │\n",
      "│            ┆             ┆             ┆             ┆ régional   ┆        ┆        ┆            │\n",
      "│ …          ┆ …           ┆ …           ┆ …           ┆ …          ┆ …      ┆ …      ┆ …          │\n",
      "│ 87345025   ┆ FRISK       ┆ Epicerie    ┆ Chocolat,   ┆ Confiserie ┆ null   ┆ null   ┆ 8          │\n",
      "│            ┆             ┆ Sucrée      ┆ Confiserie  ┆ menthe,    ┆        ┆        ┆            │\n",
      "│            ┆             ┆             ┆             ┆ Réglisse   ┆        ┆        ┆            │\n",
      "│ 2201724    ┆ MONOPRIX    ┆ Boucherie,  ┆ Porc        ┆ null       ┆ null   ┆ null   ┆ 7          │\n",
      "│            ┆ GOURMET     ┆ Volaille    ┆             ┆            ┆        ┆        ┆            │\n",
      "│ 0217506    ┆ LOUÉ        ┆ Boucherie,  ┆ Volaille    ┆ Dinde      ┆ null   ┆ null   ┆ 7          │\n",
      "│            ┆             ┆ Volaille    ┆             ┆            ┆        ┆        ┆            │\n",
      "│ 2444975    ┆ CHARAL      ┆ Boucherie,  ┆ Boeuf       ┆ Pièce de   ┆ null   ┆ null   ┆ 7          │\n",
      "│            ┆             ┆ Volaille    ┆             ┆ boeuf      ┆        ┆        ┆            │\n",
      "└────────────┴─────────────┴─────────────┴─────────────┴────────────┴────────┴────────┴────────────┘\n"
     ]
    }
   ],
   "source": [
    "## Product_id contains letter \n",
    "print(monoprix.filter(pl.col('product_id').str.contains('[A-Z]')))\n",
    "\n",
    "## Length of product_id\n",
    "print(monoprix\n",
    " .with_columns(pl.col('product_id').str.lengths().alias('product_id_length'))\n",
    " .filter(pl.col('product_id_length')<13)\n",
    ")"
   ]
  },
  {
   "cell_type": "markdown",
   "metadata": {},
   "source": [
    "Auchan"
   ]
  },
  {
   "cell_type": "code",
   "execution_count": 7,
   "metadata": {},
   "outputs": [
    {
     "data": {
      "text/html": [
       "<div><style>\n",
       ".dataframe > thead > tr > th,\n",
       ".dataframe > tbody > tr > td {\n",
       "  text-align: right;\n",
       "}\n",
       "</style>\n",
       "<small>shape: (5, 8)</small><table border=\"1\" class=\"dataframe\"><thead><tr><th>product_id</th><th>brand_desc</th><th>level0</th><th>level1</th><th>level2</th><th>level3</th><th>level4</th><th>level5</th></tr><tr><td>str</td><td>str</td><td>str</td><td>str</td><td>str</td><td>str</td><td>str</td><td>str</td></tr></thead><tbody><tr><td>&quot;3021760290040&quot;</td><td>&quot;MATERNE&quot;</td><td>&quot;Epicerie sucré…</td><td>&quot;Desserts, sucr…</td><td>&quot;Compotes, crèm…</td><td>&quot;Compotes&quot;</td><td>&quot;Compotes en co…</td><td>null</td></tr><tr><td>&quot;0000000366120&quot;</td><td>null</td><td>&quot;Fruits, légume…</td><td>&quot;Fruits&quot;</td><td>&quot;Agrumes&quot;</td><td>&quot;Pomelos&quot;</td><td>null</td><td>null</td></tr><tr><td>&quot;3033491382185&quot;</td><td>&quot;ACTIVIA&quot;</td><td>&quot;Produits laiti…</td><td>&quot;Yaourts, froma…</td><td>&quot;Yaourts aux fr…</td><td>&quot;Yaourts aux fr…</td><td>null</td><td>null</td></tr><tr><td>&quot;3701508608770&quot;</td><td>&quot;&quot;</td><td>&quot;Mode, bijoux, …</td><td>&quot;Bijoux&quot;</td><td>&quot;Bijoux femme&quot;</td><td>&quot;Bague&quot;</td><td>&quot;Bague fantaisi…</td><td>null</td></tr><tr><td>&quot;4042219137449&quot;</td><td>&quot;SCHARDT&quot;</td><td>&quot;Tout pour bébé…</td><td>&quot;Puériculture&quot;</td><td>&quot;Chambre bébé&quot;</td><td>&quot;Commode à lang…</td><td>null</td><td>null</td></tr></tbody></table></div>"
      ],
      "text/plain": [
       "shape: (5, 8)\n",
       "┌──────────┬─────────────┬────────────┬────────────┬────────────┬────────────┬────────────┬────────┐\n",
       "│ product_ ┆ brand_desc  ┆ level0     ┆ level1     ┆ level2     ┆ level3     ┆ level4     ┆ level5 │\n",
       "│ id       ┆ ---         ┆ ---        ┆ ---        ┆ ---        ┆ ---        ┆ ---        ┆ ---    │\n",
       "│ ---      ┆ str         ┆ str        ┆ str        ┆ str        ┆ str        ┆ str        ┆ str    │\n",
       "│ str      ┆             ┆            ┆            ┆            ┆            ┆            ┆        │\n",
       "╞══════════╪═════════════╪════════════╪════════════╪════════════╪════════════╪════════════╪════════╡\n",
       "│ 30217602 ┆ MATERNE     ┆ Epicerie   ┆ Desserts,  ┆ Compotes,  ┆ Compotes   ┆ Compotes   ┆ null   │\n",
       "│ 90040    ┆             ┆ sucrée     ┆ sucres,    ┆ crèmes     ┆            ┆ en         ┆        │\n",
       "│          ┆             ┆            ┆ farines,   ┆ dessert    ┆            ┆ coupelles  ┆        │\n",
       "│          ┆             ┆            ┆ diété…     ┆            ┆            ┆            ┆        │\n",
       "│ 00000003 ┆ null        ┆ Fruits,    ┆ Fruits     ┆ Agrumes    ┆ Pomelos    ┆ null       ┆ null   │\n",
       "│ 66120    ┆             ┆ légumes    ┆            ┆            ┆            ┆            ┆        │\n",
       "│ 30334913 ┆ ACTIVIA     ┆ Produits   ┆ Yaourts,   ┆ Yaourts    ┆ Yaourts    ┆ null       ┆ null   │\n",
       "│ 82185    ┆             ┆ laitiers,  ┆ fromages   ┆ aux        ┆ aux fruits ┆            ┆        │\n",
       "│          ┆             ┆ oeufs,     ┆ blancs     ┆ fruits,    ┆            ┆            ┆        │\n",
       "│          ┆             ┆ fromag…    ┆            ┆ yaourts    ┆            ┆            ┆        │\n",
       "│          ┆             ┆            ┆            ┆ arom…      ┆            ┆            ┆        │\n",
       "│ 37015086 ┆             ┆ Mode,      ┆ Bijoux     ┆ Bijoux     ┆ Bague      ┆ Bague      ┆ null   │\n",
       "│ 08770    ┆             ┆ bijoux,    ┆            ┆ femme      ┆            ┆ fantaisie  ┆        │\n",
       "│          ┆             ┆ bagagerie  ┆            ┆            ┆            ┆            ┆        │\n",
       "│ 40422191 ┆ SCHARDT     ┆ Tout pour  ┆ Puéricultu ┆ Chambre    ┆ Commode à  ┆ null       ┆ null   │\n",
       "│ 37449    ┆             ┆ bébé       ┆ re         ┆ bébé       ┆ langer     ┆            ┆        │\n",
       "└──────────┴─────────────┴────────────┴────────────┴────────────┴────────────┴────────────┴────────┘"
      ]
     },
     "execution_count": 7,
     "metadata": {},
     "output_type": "execute_result"
    }
   ],
   "source": [
    "auchan = (    \n",
    "    bronze('../data/', 'auchan', config).collect()\n",
    ")\n",
    "auchan.head()"
   ]
  },
  {
   "cell_type": "code",
   "execution_count": 8,
   "metadata": {},
   "outputs": [
    {
     "name": "stdout",
     "output_type": "stream",
     "text": [
      "(112405, 8)\n",
      "(92750, 10)\n",
      "(76491, 10)\n"
     ]
    }
   ],
   "source": [
    "print(bronze('../data/', 'auchan', config).collect().shape)\n",
    "print(silver('../data/', 'auchan', config).collect().shape)\n",
    "print(gold('../data/', 'auchan', config).collect().shape)\n"
   ]
  },
  {
   "cell_type": "code",
   "execution_count": 9,
   "metadata": {},
   "outputs": [
    {
     "name": "stdout",
     "output_type": "stream",
     "text": [
      "shape: (14_515, 8)\n",
      "┌──────────┬─────────────┬────────────┬────────────┬────────────┬────────────┬────────────┬────────┐\n",
      "│ product_ ┆ brand_desc  ┆ level0     ┆ level1     ┆ level2     ┆ level3     ┆ level4     ┆ level5 │\n",
      "│ id       ┆ ---         ┆ ---        ┆ ---        ┆ ---        ┆ ---        ┆ ---        ┆ ---    │\n",
      "│ ---      ┆ str         ┆ str        ┆ str        ┆ str        ┆ str        ┆ str        ┆ str    │\n",
      "│ str      ┆             ┆            ┆            ┆            ┆            ┆            ┆        │\n",
      "╞══════════╪═════════════╪════════════╪════════════╪════════════╪════════════╪════════════╪════════╡\n",
      "│ EAN :CA1 ┆ null        ┆ Meuble,    ┆ Linge de   ┆ Linge de   ┆ Parure de  ┆ null       ┆ null   │\n",
      "│ 535032   ┆             ┆ déco,      ┆ maison     ┆ lit        ┆ lit        ┆            ┆        │\n",
      "│          ┆             ┆ linge de   ┆            ┆            ┆            ┆            ┆        │\n",
      "│          ┆             ┆ maison     ┆            ┆            ┆            ┆            ┆        │\n",
      "│ EAN :CA1 ┆ null        ┆ Meuble,    ┆ Linge de   ┆ Couette,   ┆ Oreiller,  ┆ Oreiller   ┆ null   │\n",
      "│ 732789   ┆             ┆ déco,      ┆ maison     ┆ oreiller,  ┆ traversin  ┆ synthétiqu ┆        │\n",
      "│          ┆             ┆ linge de   ┆            ┆ alèse      ┆            ┆ e          ┆        │\n",
      "│          ┆             ┆ maison     ┆            ┆            ┆            ┆            ┆        │\n",
      "│ EAN      ┆ MANOUKIAN   ┆ Mode,      ┆ Bagagerie, ┆ Sac femme, ┆ Sac à main ┆ null       ┆ null   │\n",
      "│ :82286   ┆             ┆ bijoux,    ┆ maroquiner ┆ homme      ┆            ┆            ┆        │\n",
      "│          ┆             ┆ bagagerie  ┆ ie         ┆            ┆            ┆            ┆        │\n",
      "│ EAN :CA1 ┆ INEXTENSO   ┆ Mode,      ┆ Vêtements, ┆ Vêtements  ┆ Pull,      ┆ Pull       ┆ null   │\n",
      "│ 592359   ┆             ┆ bijoux,    ┆ chaussures ┆ femme      ┆ gilet,     ┆            ┆        │\n",
      "│          ┆             ┆ bagagerie  ┆ femme      ┆            ┆ sweat      ┆            ┆        │\n",
      "│ …        ┆ …           ┆ …          ┆ …          ┆ …          ┆ …          ┆ …          ┆ …      │\n",
      "│ EAN :CA1 ┆ ACTUEL      ┆            ┆            ┆            ┆ Drap       ┆ null       ┆ null   │\n",
      "│ 727081   ┆             ┆            ┆            ┆            ┆ housse     ┆            ┆        │\n",
      "│ EAN :CA1 ┆ ATMOSPHERA  ┆ Meuble,    ┆ Linge de   ┆ Décoration ┆ Coussin,   ┆ null       ┆ null   │\n",
      "│ 333770   ┆             ┆ déco,      ┆ maison     ┆ textile    ┆ housse de  ┆            ┆        │\n",
      "│          ┆             ┆ linge de   ┆            ┆            ┆ coussin    ┆            ┆        │\n",
      "│          ┆             ┆ maison     ┆            ┆            ┆            ┆            ┆        │\n",
      "│ EAN :CA1 ┆ BORMIOLI    ┆ Electromén ┆ Cuisine,   ┆ Arts de la ┆ Verre      ┆ Coupe,     ┆ null   │\n",
      "│ 065228   ┆ ROCCO       ┆ ager,      ┆ arts de la ┆ table      ┆            ┆ flûte      ┆        │\n",
      "│          ┆             ┆ cuisine    ┆ table      ┆            ┆            ┆            ┆        │\n",
      "│ EAN :CA1 ┆ INEXTENSO   ┆ Mode,      ┆ Vêtements, ┆ Vêtements  ┆ Tablier    ┆ null       ┆ null   │\n",
      "│ 574424   ┆             ┆ bijoux,    ┆ chaussures ┆ fille      ┆ école      ┆            ┆        │\n",
      "│          ┆             ┆ bagagerie  ┆ enfant     ┆            ┆            ┆            ┆        │\n",
      "└──────────┴─────────────┴────────────┴────────────┴────────────┴────────────┴────────────┴────────┘\n",
      "shape: (7_415, 9)\n",
      "┌──────────┬──────────┬────────────┬────────────┬───┬────────────┬───────────┬────────┬────────────┐\n",
      "│ product_ ┆ brand_de ┆ level0     ┆ level1     ┆ … ┆ level3     ┆ level4    ┆ level5 ┆ product_id │\n",
      "│ id       ┆ sc       ┆ ---        ┆ ---        ┆   ┆ ---        ┆ ---       ┆ ---    ┆ _length    │\n",
      "│ ---      ┆ ---      ┆ str        ┆ str        ┆   ┆ str        ┆ str       ┆ str    ┆ ---        │\n",
      "│ str      ┆ str      ┆            ┆            ┆   ┆            ┆           ┆        ┆ u32        │\n",
      "╞══════════╪══════════╪════════════╪════════════╪═══╪════════════╪═══════════╪════════╪════════════╡\n",
      "│ EAN      ┆ MANOUKIA ┆ Mode,      ┆ Bagagerie, ┆ … ┆ Sac à main ┆ null      ┆ null   ┆ 10         │\n",
      "│ :82286   ┆ N        ┆ bijoux,    ┆ maroquiner ┆   ┆            ┆           ┆        ┆            │\n",
      "│          ┆          ┆ bagagerie  ┆ ie         ┆   ┆            ┆           ┆        ┆            │\n",
      "│ EAN      ┆ TREEKER9 ┆ Mode,      ┆ Vêtements, ┆ … ┆ Jean       ┆ Jean      ┆ null   ┆ 10         │\n",
      "│ :50117   ┆          ┆ bijoux,    ┆ chaussures ┆   ┆            ┆ slim,     ┆        ┆            │\n",
      "│          ┆          ┆ bagagerie  ┆ femme      ┆   ┆            ┆ skinny    ┆        ┆            │\n",
      "│ EAN      ┆ Alice's  ┆ Jardin,    ┆ Jardin     ┆ … ┆ Salon de   ┆ Salon     ┆ null   ┆ 12         │\n",
      "│ :ACH3101 ┆ Garden   ┆ auto,      ┆            ┆   ┆ jardin     ┆ détente,  ┆        ┆            │\n",
      "│          ┆          ┆ brico      ┆            ┆   ┆            ┆ salon bas ┆        ┆            │\n",
      "│ EAN      ┆          ┆ Mode,      ┆ Vêtements, ┆ … ┆ Polo       ┆ null      ┆ null   ┆ 11         │\n",
      "│ :7-8253  ┆          ┆ bijoux,    ┆ chaussures ┆   ┆            ┆           ┆        ┆            │\n",
      "│          ┆          ┆ bagagerie  ┆ homme      ┆   ┆            ┆           ┆        ┆            │\n",
      "│ …        ┆ …        ┆ …          ┆ …          ┆ … ┆ …          ┆ …         ┆ …      ┆ …          │\n",
      "│ EAN      ┆ Regatta  ┆ Mode,      ┆ Vêtements, ┆ … ┆ Manteau,   ┆ Parka     ┆ null   ┆ 11         │\n",
      "│ :TRA208  ┆          ┆ bijoux,    ┆ chaussures ┆   ┆ veste      ┆           ┆        ┆            │\n",
      "│          ┆          ┆ bagagerie  ┆ homme      ┆   ┆            ┆           ┆        ┆            │\n",
      "│ EAN      ┆ HARRY    ┆ Mode,      ┆ Vêtements, ┆ … ┆ Sous-vêtem ┆ Culotte,  ┆ null   ┆ 10         │\n",
      "│ :10129   ┆ POTTER   ┆ bijoux,    ┆ chaussures ┆   ┆ ent        ┆ shorty    ┆        ┆            │\n",
      "│          ┆          ┆ bagagerie  ┆ enfant     ┆   ┆            ┆           ┆        ┆            │\n",
      "│ EAN      ┆ VONDUTCH ┆ Mode,      ┆ Vêtements, ┆ … ┆ Chemise    ┆ null      ┆ null   ┆ 9          │\n",
      "│ :9381    ┆          ┆ bijoux,    ┆ chaussures ┆   ┆            ┆           ┆        ┆            │\n",
      "│          ┆          ┆ bagagerie  ┆ homme      ┆   ┆            ┆           ┆        ┆            │\n",
      "│ EAN      ┆ NASA     ┆            ┆            ┆ … ┆            ┆ Sweat-shi ┆ null   ┆ 10         │\n",
      "│ :83646   ┆          ┆            ┆            ┆   ┆            ┆ rt        ┆        ┆            │\n",
      "└──────────┴──────────┴────────────┴────────────┴───┴────────────┴───────────┴────────┴────────────┘\n"
     ]
    }
   ],
   "source": [
    "## Product_id contains letter \n",
    "print(auchan.filter(pl.col('product_id').str.contains('[A-Z]')))\n",
    "\n",
    "## Length of product_id\n",
    "print(auchan\n",
    " .with_columns(pl.col('product_id').str.lengths().alias('product_id_length'))\n",
    " .filter(pl.col('product_id_length')<13)\n",
    ")"
   ]
  },
  {
   "cell_type": "markdown",
   "metadata": {},
   "source": [
    "Franprix"
   ]
  },
  {
   "cell_type": "code",
   "execution_count": 10,
   "metadata": {},
   "outputs": [
    {
     "data": {
      "text/html": [
       "<div><style>\n",
       ".dataframe > thead > tr > th,\n",
       ".dataframe > tbody > tr > td {\n",
       "  text-align: right;\n",
       "}\n",
       "</style>\n",
       "<small>shape: (5, 5)</small><table border=\"1\" class=\"dataframe\"><thead><tr><th>product_id</th><th>brand_desc</th><th>level0</th><th>level1</th><th>level2</th></tr><tr><td>str</td><td>str</td><td>str</td><td>str</td><td>str</td></tr></thead><tbody><tr><td>&quot;8713475429796&quot;</td><td>&quot;Hema&quot;</td><td>&quot;Entretien et m…</td><td>&quot;HEMA&quot;</td><td>&quot;Ustensiles de …</td></tr><tr><td>&quot;3384126001040&quot;</td><td>&quot;Spontex&quot;</td><td>&quot;Entretien et m…</td><td>&quot;Articles ménag…</td><td>&quot;Eponges et gan…</td></tr><tr><td>&quot;3263857281818&quot;</td><td>&quot;franprix&quot;</td><td>&quot;Nos coups de c…</td><td>&quot;Moment : Le br…</td><td>&quot;Jus de fruits&quot;</td></tr><tr><td>&quot;3248832940539&quot;</td><td>&quot;Weight watcher…</td><td>&quot;Produits frais…</td><td>&quot;Pause repas&quot;</td><td>&quot;Plats chauds i…</td></tr><tr><td>&quot;3600550972146&quot;</td><td>&quot;La Provencale&quot;</td><td>&quot;Hygiène, beaut…</td><td>&quot;Soins du visag…</td><td>&quot;Nettoyant, mas…</td></tr></tbody></table></div>"
      ],
      "text/plain": [
       "shape: (5, 5)\n",
       "┌───────────────┬─────────────────┬─────────────────────┬─────────────────────┬────────────────────┐\n",
       "│ product_id    ┆ brand_desc      ┆ level0              ┆ level1              ┆ level2             │\n",
       "│ ---           ┆ ---             ┆ ---                 ┆ ---                 ┆ ---                │\n",
       "│ str           ┆ str             ┆ str                 ┆ str                 ┆ str                │\n",
       "╞═══════════════╪═════════════════╪═════════════════════╪═════════════════════╪════════════════════╡\n",
       "│ 8713475429796 ┆ Hema            ┆ Entretien et maison ┆ HEMA                ┆ Ustensiles de      │\n",
       "│               ┆                 ┆                     ┆                     ┆ cuisine et maison  │\n",
       "│ 3384126001040 ┆ Spontex         ┆ Entretien et maison ┆ Articles ménagers   ┆ Eponges et gants   │\n",
       "│               ┆                 ┆                     ┆ et sacs poubel…     ┆                    │\n",
       "│ 3263857281818 ┆ franprix        ┆ Nos coups de coeur  ┆ Moment : Le brunch  ┆ Jus de fruits      │\n",
       "│ 3248832940539 ┆ Weight watchers ┆ Produits frais      ┆ Pause repas         ┆ Plats chauds       │\n",
       "│               ┆                 ┆                     ┆                     ┆ individuels        │\n",
       "│ 3600550972146 ┆ La Provencale   ┆ Hygiène, beauté et  ┆ Soins du visage     ┆ Nettoyant, masque  │\n",
       "│               ┆                 ┆ bébé                ┆                     ┆ de visage, gom…    │\n",
       "└───────────────┴─────────────────┴─────────────────────┴─────────────────────┴────────────────────┘"
      ]
     },
     "execution_count": 10,
     "metadata": {},
     "output_type": "execute_result"
    }
   ],
   "source": [
    "franprix = (\n",
    "    bronze('../data/', 'franprix', config).collect()\n",
    ")\n",
    "franprix.head()"
   ]
  },
  {
   "cell_type": "code",
   "execution_count": 11,
   "metadata": {},
   "outputs": [
    {
     "name": "stdout",
     "output_type": "stream",
     "text": [
      "(13622, 5)\n",
      "(12641, 7)\n",
      "(9628, 7)\n"
     ]
    }
   ],
   "source": [
    "print(bronze('../data/', 'franprix', config).collect().shape)\n",
    "print(silver('../data/', 'franprix', config).collect().shape)\n",
    "print(gold('../data/', 'franprix', config).collect().shape)"
   ]
  },
  {
   "cell_type": "code",
   "execution_count": 12,
   "metadata": {},
   "outputs": [
    {
     "name": "stdout",
     "output_type": "stream",
     "text": [
      "shape: (204, 5)\n",
      "┌─────────────────────┬────────────┬─────────────────────┬────────────────────┬────────────────────┐\n",
      "│ product_id          ┆ brand_desc ┆ level0              ┆ level1             ┆ level2             │\n",
      "│ ---                 ┆ ---        ┆ ---                 ┆ ---                ┆ ---                │\n",
      "│ str                 ┆ str        ┆ str                 ┆ str                ┆ str                │\n",
      "╞═════════════════════╪════════════╪═════════════════════╪════════════════════╪════════════════════╡\n",
      "│ dow.__NUXT__=(funct ┆ null       ┆ null                ┆ null               ┆ null               │\n",
      "│ ion(a,b,c,d,e…      ┆            ┆                     ┆                    ┆                    │\n",
      "│ ture.com   Service  ┆ Sobio etic ┆ Hygiène, beauté et  ┆ Soins du corps     ┆ Crèmes hydratantes │\n",
      "│ Relation Cons…      ┆            ┆ bébé                ┆                    ┆                    │\n",
      "│ ture.com   Service  ┆ Jardin     ┆ Epicerie salée      ┆ Conserves et plats ┆ Plats cuisinés     │\n",
      "│ Relation Cons…      ┆ biologique ┆                     ┆ cuisinés           ┆                    │\n",
      "│ 0e d’Asnières       ┆ Bic        ┆ Entretien et maison ┆ Maison et loisirs  ┆ Fournitures de     │\n",
      "│                     ┆            ┆                     ┆                    ┆ bureau             │\n",
      "│ …                   ┆ …          ┆ …                   ┆ …                  ┆ …                  │\n",
      "│ dow.__NUXT__=(funct ┆ null       ┆ null                ┆ null               ┆ null               │\n",
      "│ ion(a,b,c,d,e…      ┆            ┆                     ┆                    ┆                    │\n",
      "│ 0e d’Asnières       ┆ BIC        ┆ Entretien et maison ┆ Maison et loisirs  ┆ Fournitures de     │\n",
      "│                     ┆            ┆                     ┆                    ┆ bureau             │\n",
      "│ ture.com   Service  ┆ Jardin     ┆ Bio et écologique   ┆ Epicerie salée bio ┆ Bio: Riz, pâtes,   │\n",
      "│ Relation Cons…      ┆ biologique ┆                     ┆                    ┆ purée et fécule…   │\n",
      "│ ture.com   Service  ┆ Jardin     ┆ Epicerie salée      ┆ Riz, pâtes et      ┆ Blé, semoules et   │\n",
      "│ Relation Cons…      ┆ biologique ┆                     ┆ légumes secs       ┆ céréales           │\n",
      "└─────────────────────┴────────────┴─────────────────────┴────────────────────┴────────────────────┘\n",
      "shape: (0, 6)\n",
      "┌────────────┬────────────┬────────┬────────┬────────┬───────────────────┐\n",
      "│ product_id ┆ brand_desc ┆ level0 ┆ level1 ┆ level2 ┆ product_id_length │\n",
      "│ ---        ┆ ---        ┆ ---    ┆ ---    ┆ ---    ┆ ---               │\n",
      "│ str        ┆ str        ┆ str    ┆ str    ┆ str    ┆ u32               │\n",
      "╞════════════╪════════════╪════════╪════════╪════════╪═══════════════════╡\n",
      "└────────────┴────────────┴────────┴────────┴────────┴───────────────────┘\n"
     ]
    }
   ],
   "source": [
    "## Product_id contains letter \n",
    "print(franprix.filter(pl.col('product_id').str.contains('[A-Z]')))\n",
    "\n",
    "## Length of product_id\n",
    "print(franprix\n",
    " .with_columns(pl.col('product_id').str.lengths().alias('product_id_length'))\n",
    " .filter(pl.col('product_id_length')<13)\n",
    ")"
   ]
  },
  {
   "cell_type": "markdown",
   "metadata": {},
   "source": [
    "Final"
   ]
  },
  {
   "cell_type": "code",
   "execution_count": 13,
   "metadata": {},
   "outputs": [],
   "source": [
    "monoprix_gold = gold('../data/', 'monoprix', config).collect()\n",
    "franprix_gold = gold('../data/', 'franprix', config).collect()\n",
    "auchan_gold = gold('../data/', 'auchan', config).collect()"
   ]
  },
  {
   "cell_type": "code",
   "execution_count": 14,
   "metadata": {},
   "outputs": [
    {
     "data": {
      "text/html": [
       "<div><style>\n",
       ".dataframe > thead > tr > th,\n",
       ".dataframe > tbody > tr > td {\n",
       "  text-align: right;\n",
       "}\n",
       "</style>\n",
       "<small>shape: (99_534, 10)</small><table border=\"1\" class=\"dataframe\"><thead><tr><th>retailer</th><th>product_id</th><th>brand_desc</th><th>brand_desc_slug</th><th>level0</th><th>level1</th><th>level2</th><th>level3</th><th>level4</th><th>level5</th></tr><tr><td>str</td><td>str</td><td>str</td><td>str</td><td>str</td><td>str</td><td>str</td><td>str</td><td>str</td><td>str</td></tr></thead><tbody><tr><td>&quot;monoprix&quot;</td><td>&quot;3033491325694&quot;</td><td>&quot;ACTIVIA&quot;</td><td>&quot;ACTIVIA&quot;</td><td>&quot;CREMERIE&quot;</td><td>&quot;YAOURT&quot;</td><td>&quot;YAOURT AROMATI…</td><td>null</td><td>null</td><td>null</td></tr><tr><td>&quot;monoprix&quot;</td><td>&quot;5010724529836&quot;</td><td>&quot;BATISTE&quot;</td><td>&quot;BATISTE&quot;</td><td>&quot;HYGIENE BEAUTE…</td><td>&quot;CHEVEUX&quot;</td><td>&quot;SHAMPOING&quot;</td><td>&quot;SHAMPOOING SEC…</td><td>null</td><td>null</td></tr><tr><td>&quot;monoprix&quot;</td><td>&quot;3033710047765&quot;</td><td>&quot;NESCAFÉ&quot;</td><td>&quot;NESCAFE&quot;</td><td>&quot;BOISSON CAVE&quot;</td><td>&quot;CAFE THE BOISS…</td><td>&quot;CAFE&quot;</td><td>&quot;SOLUBLE CHICOR…</td><td>null</td><td>null</td></tr><tr><td>&quot;monoprix&quot;</td><td>&quot;3337875632652&quot;</td><td>&quot;LA ROCHE-POSAY…</td><td>&quot;LA ROCHE POSAY…</td><td>&quot;PARAPHARMACIE&quot;</td><td>&quot;NOS MARQUES PA…</td><td>&quot;LA ROCHE POSAY…</td><td>&quot;VISAGE&quot;</td><td>null</td><td>null</td></tr><tr><td>&quot;monoprix&quot;</td><td>&quot;3415581509717&quot;</td><td>&quot;HÄAGEN-DAZS&quot;</td><td>&quot;HAAGEN DAZS&quot;</td><td>&quot;SURGELES&quot;</td><td>&quot;GLACE DESSERT …</td><td>&quot;POT MINI POT&quot;</td><td>null</td><td>null</td><td>null</td></tr><tr><td>&quot;monoprix&quot;</td><td>&quot;3166291440103&quot;</td><td>&quot;DUCROS&quot;</td><td>&quot;DUCROS&quot;</td><td>&quot;EPICERIE SALEE…</td><td>&quot;PRODUITS DU MO…</td><td>&quot;MEXIQUE&quot;</td><td>&quot;PRODUIT APERIT…</td><td>null</td><td>null</td></tr><tr><td>&quot;monoprix&quot;</td><td>&quot;3017625073309&quot;</td><td>&quot;TIC TAC&quot;</td><td>&quot;TIC TAC&quot;</td><td>&quot;EPICERIE SUCRE…</td><td>&quot;CHOCOLAT CONFI…</td><td>&quot;CONFISERIE DE …</td><td>null</td><td>null</td><td>null</td></tr><tr><td>&quot;monoprix&quot;</td><td>&quot;3661344221819&quot;</td><td>&quot;LES 2 VACHES&quot;</td><td>&quot;LES 2 VACHES&quot;</td><td>&quot;CREMERIE&quot;</td><td>&quot;YAOURT&quot;</td><td>&quot;YAOURT AROMATI…</td><td>null</td><td>null</td><td>null</td></tr><tr><td>&quot;monoprix&quot;</td><td>&quot;3600540539397&quot;</td><td>&quot;GARNIER - ULTR…</td><td>&quot;GARNIER ULTRA …</td><td>&quot;HYGIENE BEAUTE…</td><td>&quot;CHEVEUX&quot;</td><td>&quot;SOIN MASQUE&quot;</td><td>&quot;CREME SOIN&quot;</td><td>null</td><td>null</td></tr><tr><td>&quot;monoprix&quot;</td><td>&quot;3350033594906&quot;</td><td>&quot;MONOPRIX&quot;</td><td>&quot;MONOPRIX&quot;</td><td>&quot;EPICERIE SUCRE…</td><td>&quot;BISCUIT SEC&quot;</td><td>&quot;COOKIE&quot;</td><td>null</td><td>null</td><td>null</td></tr><tr><td>&quot;monoprix&quot;</td><td>&quot;7613287186782&quot;</td><td>&quot;STARBUCKS&quot;</td><td>&quot;STARBUCKS&quot;</td><td>&quot;BOISSON CAVE&quot;</td><td>&quot;CAFE THE BOISS…</td><td>&quot;CAFE&quot;</td><td>&quot;COMPATIBLE NES…</td><td>null</td><td>null</td></tr><tr><td>&quot;monoprix&quot;</td><td>&quot;3337875543248&quot;</td><td>&quot;VICHY LABORATO…</td><td>&quot;VICHY LABORATO…</td><td>&quot;PARAPHARMACIE&quot;</td><td>&quot;VISAGE&quot;</td><td>&quot;SOINS VISAGE&quot;</td><td>&quot;HYDRATANTS&quot;</td><td>null</td><td>null</td></tr><tr><td>&hellip;</td><td>&hellip;</td><td>&hellip;</td><td>&hellip;</td><td>&hellip;</td><td>&hellip;</td><td>&hellip;</td><td>&hellip;</td><td>&hellip;</td><td>&hellip;</td></tr><tr><td>&quot;auchan&quot;</td><td>&quot;4062300429574&quot;</td><td>&quot;HIPP&quot;</td><td>&quot;HIPP&quot;</td><td>&quot;TOUT POUR BEBE…</td><td>&quot;REPAS DESSERTS…</td><td>&quot;DESSERTS GOUTE…</td><td>&quot;COMPOTES&quot;</td><td>null</td><td>null</td></tr><tr><td>&quot;auchan&quot;</td><td>&quot;7322460046286&quot;</td><td>&quot;DORO&quot;</td><td>&quot;DORO&quot;</td><td>&quot;HIGH TECH AUDI…</td><td>&quot;TELEPHONIE&quot;</td><td>&quot;TELEPHONES FIX…</td><td>&quot;TELEPHONE FILA…</td><td>null</td><td>null</td></tr><tr><td>&quot;auchan&quot;</td><td>&quot;3701508602679&quot;</td><td>&quot;SC CRYSTAL&quot;</td><td>&quot;SC CRYSTAL&quot;</td><td>&quot;MODE BIJOUX BA…</td><td>&quot;BIJOUX&quot;</td><td>&quot;BIJOUX FEMME&quot;</td><td>&quot;COLLIER&quot;</td><td>&quot;COLLIER FANTAI…</td><td>null</td></tr><tr><td>&quot;auchan&quot;</td><td>&quot;3664944325253&quot;</td><td>&quot;PARIS PRIX&quot;</td><td>&quot;PARIS PRIX&quot;</td><td>&quot;MEUBLE LITERIE…</td><td>&quot;DECORATION&quot;</td><td>&quot;OBJET DECORATI…</td><td>&quot;GUIRLANDE DECO…</td><td>null</td><td>null</td></tr><tr><td>&quot;auchan&quot;</td><td>&quot;3531940335008&quot;</td><td>&quot;DUC&quot;</td><td>&quot;DUC&quot;</td><td>&quot;BOUCHERIE VOLA…</td><td>&quot;VOLAILLE LAPIN…</td><td>&quot;POULET&quot;</td><td>&quot;DECOUPES DE PO…</td><td>null</td><td>null</td></tr><tr><td>&quot;auchan&quot;</td><td>&quot;3574661151267&quot;</td><td>&quot;LE PETIT MARSE…</td><td>&quot;LE PETIT MARSE…</td><td>&quot;HYGIENE BEAUTE…</td><td>&quot;HYGIENE SOINS …</td><td>&quot;GELS DOUCHE BA…</td><td>&quot;GELS DOUCHES&quot;</td><td>null</td><td>null</td></tr><tr><td>&quot;auchan&quot;</td><td>&quot;5010762010600&quot;</td><td>&quot;PYREX&quot;</td><td>&quot;PYREX&quot;</td><td>&quot;ELECTROMENAGER…</td><td>&quot;CUISINE ARTS D…</td><td>&quot;USTENSILES DE …</td><td>&quot;BOL DE CUISINE…</td><td>null</td><td>null</td></tr><tr><td>&quot;auchan&quot;</td><td>&quot;3665549030917&quot;</td><td>&quot;THE HOME DECO …</td><td>&quot;THE HOME DECO …</td><td>&quot;MEUBLE DECO LI…</td><td>&quot;DECORATION&quot;</td><td>&quot;LUMINAIRE&quot;</td><td>&quot;PLAFONNIER&quot;</td><td>null</td><td>null</td></tr><tr><td>&quot;auchan&quot;</td><td>&quot;3428390001105&quot;</td><td>&quot;MAISON TORRES&quot;</td><td>&quot;MAISON TORRES&quot;</td><td>&quot;EPICERIE SALEE…</td><td>&quot;CONSERVES SOUP…</td><td>&quot;CONSERVES DE V…</td><td>&quot;PATES TERRINES…</td><td>null</td><td>null</td></tr><tr><td>&quot;auchan&quot;</td><td>&quot;3159921240532&quot;</td><td>&quot;NUK&quot;</td><td>&quot;NUK&quot;</td><td>&quot;TOUT POUR BEBE…</td><td>&quot;PUERICULTURE&quot;</td><td>&quot;REPAS DE BEBE&quot;</td><td>&quot;BIBERON TETINE…</td><td>null</td><td>null</td></tr><tr><td>&quot;auchan&quot;</td><td>&quot;5025155073056&quot;</td><td>&quot;DYSON&quot;</td><td>&quot;DYSON&quot;</td><td>&quot;ELECTROMENAGER…</td><td>&quot;CLIMATISATION …</td><td>&quot;PURIFICATEUR D…</td><td>null</td><td>null</td><td>null</td></tr><tr><td>&quot;auchan&quot;</td><td>&quot;4011905249230&quot;</td><td>&quot;TRIXIE&quot;</td><td>&quot;TRIXIE&quot;</td><td>&quot;ANIMALERIE&quot;</td><td>&quot;ACCESSOIRES AN…</td><td>&quot;CHIEN&quot;</td><td>&quot;GAMELLE DISTRI…</td><td>&quot;GAMELLE CONTEN…</td><td>null</td></tr></tbody></table></div>"
      ],
      "text/plain": [
       "shape: (99_534, 10)\n",
       "┌──────────┬──────────┬──────────┬────────────┬───┬─────────────┬────────────┬────────────┬────────┐\n",
       "│ retailer ┆ product_ ┆ brand_de ┆ brand_desc ┆ … ┆ level2      ┆ level3     ┆ level4     ┆ level5 │\n",
       "│ ---      ┆ id       ┆ sc       ┆ _slug      ┆   ┆ ---         ┆ ---        ┆ ---        ┆ ---    │\n",
       "│ str      ┆ ---      ┆ ---      ┆ ---        ┆   ┆ str         ┆ str        ┆ str        ┆ str    │\n",
       "│          ┆ str      ┆ str      ┆ str        ┆   ┆             ┆            ┆            ┆        │\n",
       "╞══════════╪══════════╪══════════╪════════════╪═══╪═════════════╪════════════╪════════════╪════════╡\n",
       "│ monoprix ┆ 30334913 ┆ ACTIVIA  ┆ ACTIVIA    ┆ … ┆ YAOURT      ┆ null       ┆ null       ┆ null   │\n",
       "│          ┆ 25694    ┆          ┆            ┆   ┆ AROMATISE   ┆            ┆            ┆        │\n",
       "│          ┆          ┆          ┆            ┆   ┆ AUX FRUITS  ┆            ┆            ┆        │\n",
       "│ monoprix ┆ 50107245 ┆ BATISTE  ┆ BATISTE    ┆ … ┆ SHAMPOING   ┆ SHAMPOOING ┆ null       ┆ null   │\n",
       "│          ┆ 29836    ┆          ┆            ┆   ┆             ┆ SEC        ┆            ┆        │\n",
       "│ monoprix ┆ 30337100 ┆ NESCAFÉ  ┆ NESCAFE    ┆ … ┆ CAFE        ┆ SOLUBLE    ┆ null       ┆ null   │\n",
       "│          ┆ 47765    ┆          ┆            ┆   ┆             ┆ CHICOREE   ┆            ┆        │\n",
       "│ monoprix ┆ 33378756 ┆ LA ROCHE ┆ LA ROCHE   ┆ … ┆ LA ROCHE    ┆ VISAGE     ┆ null       ┆ null   │\n",
       "│          ┆ 32652    ┆ -POSAY - ┆ POSAY PARA ┆   ┆ POSAY       ┆            ┆            ┆        │\n",
       "│          ┆          ┆ PARAPHAR ┆ PHARMACIE  ┆   ┆             ┆            ┆            ┆        │\n",
       "│          ┆          ┆ MACIE    ┆            ┆   ┆             ┆            ┆            ┆        │\n",
       "│ …        ┆ …        ┆ …        ┆ …          ┆ … ┆ …           ┆ …          ┆ …          ┆ …      │\n",
       "│ auchan   ┆ 34283900 ┆ MAISON   ┆ MAISON     ┆ … ┆ CONSERVES   ┆ PATES      ┆ null       ┆ null   │\n",
       "│          ┆ 01105    ┆ TORRES   ┆ TORRES     ┆   ┆ DE VIANDE   ┆ TERRINES   ┆            ┆        │\n",
       "│          ┆          ┆          ┆            ┆   ┆ FOIE GRAS   ┆            ┆            ┆        │\n",
       "│ auchan   ┆ 31599212 ┆ NUK      ┆ NUK        ┆ … ┆ REPAS DE    ┆ BIBERON    ┆ null       ┆ null   │\n",
       "│          ┆ 40532    ┆          ┆            ┆   ┆ BEBE        ┆ TETINE     ┆            ┆        │\n",
       "│ auchan   ┆ 50251550 ┆ DYSON    ┆ DYSON      ┆ … ┆ PURIFICATEU ┆ null       ┆ null       ┆ null   │\n",
       "│          ┆ 73056    ┆          ┆            ┆   ┆ R D AIR     ┆            ┆            ┆        │\n",
       "│ auchan   ┆ 40119052 ┆ TRIXIE   ┆ TRIXIE     ┆ … ┆ CHIEN       ┆ GAMELLE    ┆ GAMELLE    ┆ null   │\n",
       "│          ┆ 49230    ┆          ┆            ┆   ┆             ┆ DISTRIBUTE ┆ CONTENEUR  ┆        │\n",
       "│          ┆          ┆          ┆            ┆   ┆             ┆ UR         ┆ A          ┆        │\n",
       "│          ┆          ┆          ┆            ┆   ┆             ┆            ┆ CROQUETTES ┆        │\n",
       "└──────────┴──────────┴──────────┴────────────┴───┴─────────────┴────────────┴────────────┴────────┘"
      ]
     },
     "execution_count": 14,
     "metadata": {},
     "output_type": "execute_result"
    }
   ],
   "source": [
    "dataset_full = pl.concat([monoprix_gold, franprix_gold, auchan_gold], how=\"diagonal\")\n",
    "dataset_full"
   ]
  },
  {
   "cell_type": "code",
   "execution_count": 15,
   "metadata": {},
   "outputs": [
    {
     "data": {
      "text/html": [
       "<div><style>\n",
       ".dataframe > thead > tr > th,\n",
       ".dataframe > tbody > tr > td {\n",
       "  text-align: right;\n",
       "}\n",
       "</style>\n",
       "<small>shape: (90_563, 4)</small><table border=\"1\" class=\"dataframe\"><thead><tr><th>product_id</th><th>brand_desc_monoprix</th><th>brand_desc_franprix</th><th>brand_desc_auchan</th></tr><tr><td>str</td><td>str</td><td>str</td><td>str</td></tr></thead><tbody><tr><td>&quot;0000000001649&quot;</td><td>null</td><td>&quot;LITTLE MOONS M…</td><td>null</td></tr><tr><td>&quot;0000000001927&quot;</td><td>null</td><td>null</td><td>&quot;NO NAME&quot;</td></tr><tr><td>&quot;0000000002184&quot;</td><td>null</td><td>null</td><td>&quot;NO NAME&quot;</td></tr><tr><td>&quot;0000000002184&quot;</td><td>null</td><td>null</td><td>&quot;NO NAME&quot;</td></tr><tr><td>&quot;0000000002185&quot;</td><td>null</td><td>null</td><td>&quot;NO NAME&quot;</td></tr><tr><td>&quot;0000000007198&quot;</td><td>null</td><td>&quot;BIO ENSEMBLE&quot;</td><td>null</td></tr><tr><td>&quot;0000000007256&quot;</td><td>null</td><td>&quot;BIO ENSEMBLE&quot;</td><td>null</td></tr><tr><td>&quot;0000000007395&quot;</td><td>null</td><td>&quot;BIO ENSEMBLE&quot;</td><td>null</td></tr><tr><td>&quot;0000000007396&quot;</td><td>null</td><td>&quot;BIO ENSEMBLE&quot;</td><td>null</td></tr><tr><td>&quot;0000000007405&quot;</td><td>null</td><td>&quot;BIO ENSEMBLE&quot;</td><td>null</td></tr><tr><td>&quot;0000000008052&quot;</td><td>null</td><td>&quot;BIO ENSEMBLE&quot;</td><td>null</td></tr><tr><td>&quot;0000000008056&quot;</td><td>null</td><td>&quot;BIO ENSEMBLE&quot;</td><td>null</td></tr><tr><td>&hellip;</td><td>&hellip;</td><td>&hellip;</td><td>&hellip;</td></tr><tr><td>&quot;9990004063631&quot;</td><td>null</td><td>null</td><td>&quot;NATUREN&quot;</td></tr><tr><td>&quot;9990004063648&quot;</td><td>null</td><td>null</td><td>&quot;KB&quot;</td></tr><tr><td>&quot;9990004071582&quot;</td><td>null</td><td>null</td><td>&quot;PYREX&quot;</td></tr><tr><td>&quot;9990004074828&quot;</td><td>null</td><td>null</td><td>&quot;GOLIATH&quot;</td></tr><tr><td>&quot;9990004102477&quot;</td><td>null</td><td>null</td><td>&quot;PHEBUS&quot;</td></tr><tr><td>&quot;9990004105935&quot;</td><td>null</td><td>null</td><td>&quot;PAMPERS&quot;</td></tr><tr><td>&quot;9990004142565&quot;</td><td>null</td><td>null</td><td>&quot;KB&quot;</td></tr><tr><td>&quot;9990004150485&quot;</td><td>null</td><td>null</td><td>&quot;SPIN MASTER&quot;</td></tr><tr><td>&quot;9990004153943&quot;</td><td>null</td><td>null</td><td>&quot;SPIN MASTER&quot;</td></tr><tr><td>&quot;9990004153981&quot;</td><td>null</td><td>null</td><td>&quot;SPIN MASTER&quot;</td></tr><tr><td>&quot;9990004154049&quot;</td><td>null</td><td>null</td><td>&quot;SPIN MASTER&quot;</td></tr><tr><td>&quot;9999995310106&quot;</td><td>null</td><td>null</td><td>&quot;GOODYEAR&quot;</td></tr></tbody></table></div>"
      ],
      "text/plain": [
       "shape: (90_563, 4)\n",
       "┌───────────────┬─────────────────────┬─────────────────────┬───────────────────┐\n",
       "│ product_id    ┆ brand_desc_monoprix ┆ brand_desc_franprix ┆ brand_desc_auchan │\n",
       "│ ---           ┆ ---                 ┆ ---                 ┆ ---               │\n",
       "│ str           ┆ str                 ┆ str                 ┆ str               │\n",
       "╞═══════════════╪═════════════════════╪═════════════════════╪═══════════════════╡\n",
       "│ 0000000001649 ┆ null                ┆ LITTLE MOONS MOCHI  ┆ null              │\n",
       "│ 0000000001927 ┆ null                ┆ null                ┆ NO NAME           │\n",
       "│ 0000000002184 ┆ null                ┆ null                ┆ NO NAME           │\n",
       "│ 0000000002184 ┆ null                ┆ null                ┆ NO NAME           │\n",
       "│ …             ┆ …                   ┆ …                   ┆ …                 │\n",
       "│ 9990004153943 ┆ null                ┆ null                ┆ SPIN MASTER       │\n",
       "│ 9990004153981 ┆ null                ┆ null                ┆ SPIN MASTER       │\n",
       "│ 9990004154049 ┆ null                ┆ null                ┆ SPIN MASTER       │\n",
       "│ 9999995310106 ┆ null                ┆ null                ┆ GOODYEAR          │\n",
       "└───────────────┴─────────────────────┴─────────────────────┴───────────────────┘"
      ]
     },
     "execution_count": 15,
     "metadata": {},
     "output_type": "execute_result"
    }
   ],
   "source": [
    "brand_eda = (\n",
    "    pl.concat(\n",
    "        [\n",
    "            monoprix_gold.select(pl.col(\"product_id\"), pl.col(\"brand_desc_slug\").alias('brand_desc_monoprix')), \n",
    "            franprix_gold.select(pl.col(\"product_id\"), pl.col(\"brand_desc_slug\").alias('brand_desc_franprix')) , \n",
    "            auchan_gold.select(pl.col(\"product_id\"), pl.col(\"brand_desc_slug\").alias('brand_desc_auchan')) \n",
    "        ], \n",
    "        how=\"align\"\n",
    "        )\n",
    "    )\n",
    "\n",
    "brand_eda"
   ]
  },
  {
   "cell_type": "markdown",
   "metadata": {},
   "source": [
    "### Exploration"
   ]
  },
  {
   "cell_type": "code",
   "execution_count": 16,
   "metadata": {},
   "outputs": [],
   "source": [
    "dataset_init_vertical = (\n",
    "    pl.concat(\n",
    "        [\n",
    "            monoprix_gold.select(pl.col('product_id'), pl.col(\"brand_desc_slug\")), \n",
    "            auchan_gold.select(pl.col('product_id'), pl.col(\"brand_desc_slug\")), \n",
    "            franprix_gold.select(pl.col('product_id'), pl.col(\"brand_desc_slug\"))\n",
    "        ], \n",
    "        how=\"vertical\"\n",
    "        )\n",
    "    .unique()\n",
    ")"
   ]
  },
  {
   "cell_type": "code",
   "execution_count": 17,
   "metadata": {},
   "outputs": [
    {
     "data": {
      "text/plain": [
       "(90556, 1)"
      ]
     },
     "execution_count": 17,
     "metadata": {},
     "output_type": "execute_result"
    }
   ],
   "source": [
    "dataset_init_vertical.select(pl.col('product_id')).unique().shape\n",
    "## 121702 products"
   ]
  },
  {
   "cell_type": "code",
   "execution_count": 18,
   "metadata": {},
   "outputs": [
    {
     "name": "stdout",
     "output_type": "stream",
     "text": [
      "(6520, 2)\n",
      "(2175, 2)\n"
     ]
    }
   ],
   "source": [
    "nb_pdt_by_brand = dataset_init_vertical.groupby(\"brand_desc_slug\").count()\n",
    "print(nb_pdt_by_brand.shape)\n",
    "print(nb_pdt_by_brand.filter(pl.col('count')==1).shape)"
   ]
  },
  {
   "cell_type": "code",
   "execution_count": 19,
   "metadata": {},
   "outputs": [
    {
     "name": "stdout",
     "output_type": "stream",
     "text": [
      "monoprix (13415, 1)\n",
      "monoprix (2611, 1)\n",
      "franprix (9627, 1)\n",
      "franprix (1426, 1)\n",
      "auchan (76485, 1)\n",
      "auchan (4246, 1)\n"
     ]
    }
   ],
   "source": [
    "print('monoprix', monoprix_gold.select(pl.col(\"product_id\")).unique().shape)\n",
    "print('monoprix', monoprix_gold.select(pl.col(\"brand_desc_slug\")).unique().shape)\n",
    "print('franprix', franprix_gold.select(pl.col(\"product_id\")).unique().shape)\n",
    "print('franprix', franprix_gold.select(pl.col(\"brand_desc_slug\")).unique().shape)\n",
    "print('auchan', auchan_gold.select(pl.col(\"product_id\")).unique().shape)\n",
    "print('auchan', auchan_gold.select(pl.col(\"brand_desc_slug\")).unique().shape)"
   ]
  },
  {
   "cell_type": "code",
   "execution_count": 20,
   "metadata": {},
   "outputs": [
    {
     "name": "stdout",
     "output_type": "stream",
     "text": [
      "monoprix/franprix (2918, 4)\n",
      "monoprix/auchan (4683, 4)\n",
      "auchan/franprix (3319, 4)\n",
      "monoprix/auchan/franprix (1947, 4)\n"
     ]
    }
   ],
   "source": [
    "dataset_init_align = (\n",
    "    pl.concat(\n",
    "        [\n",
    "            monoprix_gold\n",
    "            .select([pl.col(\"product_id\"), pl.col(\"brand_desc_slug\").alias('brand_desc_slug_monoprix')]), \n",
    "            franprix_gold\n",
    "            .select([pl.col(\"product_id\"), pl.col(\"brand_desc_slug\").alias('brand_desc_slug_franprix')]), \n",
    "            auchan_gold\n",
    "            .select([pl.col(\"product_id\"), pl.col(\"brand_desc_slug\").alias('brand_desc_slug_auchan')]), \n",
    "        ], \n",
    "        how=\"align\"\n",
    "        )\n",
    ")\n",
    "\n",
    "print('monoprix/franprix', \n",
    "      dataset_init_align\n",
    "      .filter(pl.col('brand_desc_slug_monoprix').is_not_null())\n",
    "      .filter(pl.col('brand_desc_slug_franprix').is_not_null())\n",
    "      .shape)\n",
    "print('monoprix/auchan', \n",
    "      dataset_init_align\n",
    "      .filter(pl.col('brand_desc_slug_monoprix').is_not_null())\n",
    "      .filter(pl.col('brand_desc_slug_auchan').is_not_null())\n",
    "      .shape)\n",
    "print('auchan/franprix', \n",
    "      dataset_init_align\n",
    "      .filter(pl.col('brand_desc_slug_auchan').is_not_null())\n",
    "      .filter(pl.col('brand_desc_slug_franprix').is_not_null())\n",
    "      .shape)\n",
    "\n",
    "print('monoprix/auchan/franprix', \n",
    "      dataset_init_align\n",
    "      .filter(pl.col('brand_desc_slug_monoprix').is_not_null())\n",
    "      .filter(pl.col('brand_desc_slug_auchan').is_not_null())\n",
    "      .filter(pl.col('brand_desc_slug_franprix').is_not_null())\n",
    "      .shape)"
   ]
  }
 ],
 "metadata": {
  "kernelspec": {
   "display_name": "venv",
   "language": "python",
   "name": "python3"
  },
  "language_info": {
   "codemirror_mode": {
    "name": "ipython",
    "version": 3
   },
   "file_extension": ".py",
   "mimetype": "text/x-python",
   "name": "python",
   "nbconvert_exporter": "python",
   "pygments_lexer": "ipython3",
   "version": "3.11.4"
  },
  "orig_nbformat": 4
 },
 "nbformat": 4,
 "nbformat_minor": 2
}
